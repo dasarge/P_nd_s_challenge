{
 "cells": [
  {
   "cell_type": "markdown",
   "metadata": {},
   "source": [
    "### Note\n",
    "* Instructions have been included for each segment. You do not have to follow them exactly, but they are included to help you think through the steps."
   ]
  },
  {
   "cell_type": "code",
   "execution_count": 1,
   "metadata": {},
   "outputs": [],
   "source": [
    "# Dependencies and Setup\n",
    "import pandas as pd\n",
    "#import numpy as np\n",
    "\n",
    "# File to Load (Remember to Change These)\n",
    "school_data_to_load = \"Resources/schools_complete.csv\"\n",
    "student_data_to_load = \"Resources/students_complete.csv\"\n",
    "\n",
    "# Read School and Student Data File and store into Pandas DataFrames\n",
    "school_df = pd.read_csv(school_data_to_load)\n",
    "\n",
    "#schools_df = pd.read_csv(schools_file)\n",
    "student_df = pd.read_csv(student_data_to_load)\n",
    "\n",
    "#renames for merge\n",
    "school_df.rename(columns = {'name': 'school'}, inplace = True)\n",
    "school_df.rename(columns = {'name': 'student'}, inplace = True)\n",
    "\n",
    "# Combine the data into a single dataset.  \n",
    "\n",
    "school_data_complete = pd.merge(student_df, school_df, how=\"left\", on=[\"school_name\", \"school_name\"])\n",
    "#school_data_complete"
   ]
  },
  {
   "cell_type": "markdown",
   "metadata": {},
   "source": [
    "## District Summary\n",
    "\n",
    "* Calculate the total number of schools\n",
    "\n",
    "* Calculate the total number of students\n",
    "\n",
    "* Calculate the total budget\n",
    "\n",
    "* Calculate the average math score \n",
    "\n",
    "* Calculate the average reading score\n",
    "\n",
    "* Calculate the percentage of students with a passing math score (70 or greater)\n",
    "\n",
    "* Calculate the percentage of students with a passing reading score (70 or greater)\n",
    "\n",
    "* Calculate the percentage of students who passed math **and** reading (% Overall Passing)\n",
    "\n",
    "* Create a dataframe to hold the above results\n",
    "\n",
    "* Optional: give the displayed data cleaner formatting"
   ]
  },
  {
   "cell_type": "code",
   "execution_count": 2,
   "metadata": {},
   "outputs": [],
   "source": [
    "a = (\"total schools\")\n",
    "b = (\"total students\")\n",
    "c = (\"total budget\")\n",
    "d = (\"average reading score\")\n",
    "e = (\"average math score\")\n",
    "f = (\"combo pass score\")\n",
    "g = (\"% Passing Reading\")\n",
    "h = (\"% Passing Math\")\n",
    "i = (\"% Passing Reading/Math\")\n",
    "j = (\"Per Student Budget\")\n",
    "k = (\"School type\")\n",
    "l = (\"School Names\")\n",
    "m = (\"Total School Budget\")"
   ]
  },
  {
   "cell_type": "code",
   "execution_count": 3,
   "metadata": {},
   "outputs": [
    {
     "data": {
      "text/plain": [
       "39170"
      ]
     },
     "execution_count": 3,
     "metadata": {},
     "output_type": "execute_result"
    }
   ],
   "source": [
    "sc = school_df.school_name.count()\n",
    "st = school_data_complete.student_name.count()\n",
    "bu = school_df[\"budget\"].sum()\n",
    "rd_sc = school_data_complete.reading_score.mean()\n",
    "mt_sc = school_data_complete.math_score.mean()\n",
    "st"
   ]
  },
  {
   "cell_type": "code",
   "execution_count": null,
   "metadata": {},
   "outputs": [],
   "source": [
    "#passing reading\n",
    "\n",
    "pass_grades_reading = school_data_complete.loc[school_data_complete[\"reading_score\"] >= 70] \n",
    "pass_reading_percentage = (pass_grades_reading.reading_score.count() / student_df.student_name.count())*100\n",
    "\n",
    "\n",
    "pass_reading_percentage"
   ]
  },
  {
   "cell_type": "code",
   "execution_count": null,
   "metadata": {},
   "outputs": [],
   "source": [
    "#passing math\n",
    "\n",
    "pass_grades_math = school_data_complete.loc[school_data_complete[\"math_score\"] >= 70]\n",
    "pass_math_percentage = (pass_grades_math.math_score.count() / student_df.student_name.count())*100\n",
    "\n",
    "\n",
    "pass_math_percentage"
   ]
  },
  {
   "cell_type": "code",
   "execution_count": null,
   "metadata": {},
   "outputs": [],
   "source": [
    "#pasing reading and math\n",
    "\n",
    "combo_reading_math_passing_grade = pass_grades_math.loc[pass_grades_math[\"reading_score\"] >= 70]\n",
    "combo_reading_math_percent = (combo_reading_math_passing_grade.reading_score.count() / student_df.student_name.count())*100\n",
    "\n",
    "\n",
    "\n",
    "combo_reading_math_percent"
   ]
  },
  {
   "cell_type": "code",
   "execution_count": null,
   "metadata": {},
   "outputs": [],
   "source": [
    "rd_pass = pass_reading_percentage\n",
    "mt_pass = pass_math_percentage\n",
    "cmb_pass = combo_reading_math_percent"
   ]
  },
  {
   "cell_type": "code",
   "execution_count": null,
   "metadata": {
    "scrolled": true
   },
   "outputs": [],
   "source": [
    "#format data for summary table\n",
    "#data = [{'a': 1, 'b': 2},{'a': 5, 'b': 10, 'c': 20}]\n",
    "data = [{a : sc, b : st, c: bu, d: rd_sc, e: mt_sc,h: mt_pass, g: rd_pass, i: cmb_pass}]\n",
    "df = pd.DataFrame(data)\n",
    "df[\"total budget\"] = df[\"total budget\"].map(\"${:,.2f}\".format)\n",
    "df[\"average math score\"] = df[\"average math score\"].map(\"{:.2f}\".format)\n",
    "df[\"average reading score\"] = df[\"average reading score\"].map(\"{:.2f}\".format)\n",
    "df['% Passing Math'] = df['% Passing Math'].map('{:.2f}%'.format)\n",
    "df['% Passing Reading'] = df['% Passing Reading'].map('{:.2f}%'.format)\n",
    "df['% Passing Reading/Math'] = df['% Passing Reading/Math'].map('{:.2f}%'.format)\n",
    "\n",
    "#Format the datatable\n",
    "df.style"
   ]
  },
  {
   "cell_type": "markdown",
   "metadata": {},
   "source": [
    "## School Summary"
   ]
  },
  {
   "cell_type": "markdown",
   "metadata": {},
   "source": [
    "* Create an overview table that summarizes key metrics about each school, including:\n",
    "  * School Name\n",
    "  * School Type\n",
    "  * Total Students\n",
    "  * Total School Budget\n",
    "  * Per Student Budget\n",
    "  * Average Math Score\n",
    "  * Average Reading Score\n",
    "  * % Passing Math\n",
    "  * % Passing Reading\n",
    "  * % Overall Passing (The percentage of students that passed math **and** reading.)\n",
    "  \n",
    "* Create a dataframe to hold the above results"
   ]
  },
  {
   "cell_type": "code",
   "execution_count": null,
   "metadata": {
    "scrolled": false
   },
   "outputs": [],
   "source": [
    "# applying groupby() function to \n",
    "#school_df = pd.read_csv(school_df)\n",
    "\n",
    "\n",
    "#Reference school_df---------------------------\n",
    "\n",
    "#create array of unique school names\n",
    "unique_school_names = school_df['school_name'].unique()\n",
    "\n",
    "#gives the length of unique school names to give us how many schools\n",
    "school_count = len(unique_school_names)\n",
    "\n",
    "#-------------------------------------------------\n",
    "school_names = school_df['school_name'].unique()\n",
    "\n",
    "\n",
    "#-------------------------------------------------\n",
    "school_type = school_df.set_index([\"school_name\"]).type\n",
    "\n",
    "#Reference both school_df and -------------------------------------------------\n",
    "budget = school_df.set_index([\"school_name\"]).budget\n",
    "budget_format = budget.map(\"${:,.2f}\".format)\n",
    "\n",
    "#Reference school_data_complete-------------------------------------------------\n",
    "school_total_students = school_data_complete.school_name.value_counts()\n",
    "\n",
    "#-------------------------------------------------\n",
    "per_stu_budget = budget / school_total_students\n",
    "per_stu_budget_format = per_stu_budget.map(\"${:.2f}\".format)\n",
    "per_stu_budget_format"
   ]
  },
  {
   "cell_type": "code",
   "execution_count": null,
   "metadata": {},
   "outputs": [],
   "source": [
    "\n",
    "#----------------------------------------------\n",
    "school_summary = school_data_complete.groupby('school_name')\n",
    " \n",
    "#----------------------------------------------------\n",
    "avg_reading = list(school_summary.reading_score.mean().map(\"{:.2f}\".format))\n",
    "\n",
    "#-----------------------------------------------------\n",
    "avg_math = list(school_summary.math_score.mean().map(\"{:.2f}\".format))\n",
    "\n",
    "# % passing scores\n",
    "pass_math = school_data_complete[(school_data_complete['math_score'] >= 70)] \n",
    "pass_read = school_data_complete[school_data_complete['reading_score'] >= 70]\n",
    "pass_overall = school_data_complete[(school_data_complete['reading_score'] >= 70) & (school_data_complete['math_score'] >= 70)]\n",
    "pass_overall"
   ]
  },
  {
   "cell_type": "code",
   "execution_count": null,
   "metadata": {},
   "outputs": [],
   "source": [
    "math_prct = pass_math.groupby(['school_name']).count()['Student ID']/school_total_students*100\n",
    "math_prct_format = math_prct.map('{:.2f}%'.format)\n",
    "reading_prct = pass_read.groupby(['school_name']).count()['Student ID']/school_total_students*100\n",
    "reading_prct_format = math_prct.map('{:.2f}%'.format)\n",
    "overall_prct = pass_overall.groupby(['school_name']).count()['Student ID']/school_total_students*100\n",
    "overall_prct_format = math_prct.map('{:.2f}%'.format)\n"
   ]
  },
  {
   "cell_type": "code",
   "execution_count": null,
   "metadata": {},
   "outputs": [],
   "source": [
    "school_summary1_df =pd.DataFrame({\"School type\":school_type,\"total students\":school_total_students, \"Total School Budget\":budget_format,\n",
    "\"Per Student Budget\":per_stu_budget_format, \"Average Math Score\":avg_math, \"Average Reading Score\":avg_reading, \"% Passing Math\":math_prct_format, \"% Passing Reading\":reading_prct_format, \"% Passing Reading/Math\":overall_prct_format})\n",
    "school_summary1_df"
   ]
  },
  {
   "cell_type": "code",
   "execution_count": null,
   "metadata": {
    "scrolled": false
   },
   "outputs": [],
   "source": [
    "school_summary_df =pd.DataFrame({\"School type\":school_type,\"total students\":school_total_students, \"Total School Budget\":budget_format,\n",
    "\"Per Student Budget\":per_stu_budger_format, \"Average Math Score\":avg_math, \"Average Reading Score\":avg_reading, \"% Passing Math\":math_prct_format, \"% Passing Reading\":reading_prct_format, \"% Passing Reading/Math\":overall_prct_format})\n",
    "school_summary_df"
   ]
  },
  {
   "cell_type": "markdown",
   "metadata": {},
   "source": [
    "## Top Performing Schools (By % Overall Passing)"
   ]
  },
  {
   "cell_type": "markdown",
   "metadata": {},
   "source": [
    "* Sort and display the top five performing schools by % overall passing."
   ]
  },
  {
   "cell_type": "code",
   "execution_count": null,
   "metadata": {
    "scrolled": true
   },
   "outputs": [],
   "source": [
    "  "
   ]
  },
  {
   "cell_type": "markdown",
   "metadata": {},
   "source": [
    "## Bottom Performing Schools (By % Overall Passing)"
   ]
  },
  {
   "cell_type": "markdown",
   "metadata": {},
   "source": [
    "* Sort and display the five worst-performing schools by % overall passing."
   ]
  },
  {
   "cell_type": "code",
   "execution_count": null,
   "metadata": {},
   "outputs": [],
   "source": []
  },
  {
   "cell_type": "markdown",
   "metadata": {
    "collapsed": true
   },
   "source": [
    "## Math Scores by Grade"
   ]
  },
  {
   "cell_type": "markdown",
   "metadata": {},
   "source": [
    "* Create a table that lists the average Reading Score for students of each grade level (9th, 10th, 11th, 12th) at each school.\n",
    "\n",
    "  * Create a pandas series for each grade. Hint: use a conditional statement.\n",
    "  \n",
    "  * Group each series by school\n",
    "  \n",
    "  * Combine the series into a dataframe\n",
    "  \n",
    "  * Optional: give the displayed data cleaner formatting"
   ]
  },
  {
   "cell_type": "code",
   "execution_count": null,
   "metadata": {},
   "outputs": [],
   "source": []
  },
  {
   "cell_type": "markdown",
   "metadata": {},
   "source": [
    "## Reading Score by Grade "
   ]
  },
  {
   "cell_type": "markdown",
   "metadata": {},
   "source": [
    "* Perform the same operations as above for reading scores"
   ]
  },
  {
   "cell_type": "code",
   "execution_count": null,
   "metadata": {},
   "outputs": [],
   "source": []
  },
  {
   "cell_type": "markdown",
   "metadata": {},
   "source": [
    "## Scores by School Spending"
   ]
  },
  {
   "cell_type": "markdown",
   "metadata": {},
   "source": [
    "* Create a table that breaks down school performances based on average Spending Ranges (Per Student). Use 4 reasonable bins to group school spending. Include in the table each of the following:\n",
    "  * Average Math Score\n",
    "  * Average Reading Score\n",
    "  * % Passing Math\n",
    "  * % Passing Reading\n",
    "  * Overall Passing Rate (Average of the above two)"
   ]
  },
  {
   "cell_type": "code",
   "execution_count": null,
   "metadata": {},
   "outputs": [],
   "source": []
  },
  {
   "cell_type": "markdown",
   "metadata": {},
   "source": [
    "## Scores by School Size"
   ]
  },
  {
   "cell_type": "markdown",
   "metadata": {},
   "source": [
    "* Perform the same operations as above, based on school size."
   ]
  },
  {
   "cell_type": "code",
   "execution_count": null,
   "metadata": {
    "scrolled": true
   },
   "outputs": [],
   "source": []
  },
  {
   "cell_type": "markdown",
   "metadata": {},
   "source": [
    "## Scores by School Type"
   ]
  },
  {
   "cell_type": "markdown",
   "metadata": {},
   "source": [
    "* Perform the same operations as above, based on school type"
   ]
  },
  {
   "cell_type": "code",
   "execution_count": null,
   "metadata": {},
   "outputs": [],
   "source": []
  },
  {
   "cell_type": "code",
   "execution_count": null,
   "metadata": {},
   "outputs": [],
   "source": []
  },
  {
   "cell_type": "code",
   "execution_count": null,
   "metadata": {},
   "outputs": [],
   "source": []
  },
  {
   "cell_type": "code",
   "execution_count": null,
   "metadata": {},
   "outputs": [],
   "source": []
  }
 ],
 "metadata": {
  "anaconda-cloud": {},
  "kernel_info": {
   "name": "python3"
  },
  "kernelspec": {
   "display_name": "Python 3",
   "language": "python",
   "name": "python3"
  },
  "language_info": {
   "codemirror_mode": {
    "name": "ipython",
    "version": 3
   },
   "file_extension": ".py",
   "mimetype": "text/x-python",
   "name": "python",
   "nbconvert_exporter": "python",
   "pygments_lexer": "ipython3",
   "version": "3.6.10"
  },
  "latex_envs": {
   "LaTeX_envs_menu_present": true,
   "autoclose": false,
   "autocomplete": true,
   "bibliofile": "biblio.bib",
   "cite_by": "apalike",
   "current_citInitial": 1,
   "eqLabelWithNumbers": true,
   "eqNumInitial": 1,
   "hotkeys": {
    "equation": "Ctrl-E",
    "itemize": "Ctrl-I"
   },
   "labels_anchors": false,
   "latex_user_defs": false,
   "report_style_numbering": false,
   "user_envs_cfg": false
  },
  "nteract": {
   "version": "0.8.4"
  }
 },
 "nbformat": 4,
 "nbformat_minor": 1
}
