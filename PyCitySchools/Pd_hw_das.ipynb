{
 "cells": [
  {
   "cell_type": "markdown",
   "metadata": {},
   "source": [
    "### Note\n",
    "* Instructions have been included for each segment. You do not have to follow them exactly, but they are included to help you think through the steps."
   ]
  },
  {
   "cell_type": "code",
   "execution_count": 1,
   "metadata": {},
   "outputs": [],
   "source": [
    "# Dependencies and Setup\n",
    "import pandas as pd\n",
    "import numpy as np\n",
    "\n",
    "# File to Load (Remember to Change These)\n",
    "school_data_to_load = \"Resources/schools_complete.csv\"\n",
    "student_data_to_load = \"Resources/students_complete.csv\"\n",
    "\n",
    "# Read School and Student Data File and store into Pandas DataFrames\n",
    "school_data_df = pd.read_csv(school_data_to_load)\n",
    "student_data_df = pd.read_csv(student_data_to_load)\n",
    "\n",
    "# Combine the data into a single dataset.  \n",
    "\n",
    "school_data_complete = pd.merge(student_data_df, school_data_df, how=\"left\", on=[\"school_name\", \"school_name\"])\n"
   ]
  },
  {
   "cell_type": "markdown",
   "metadata": {},
   "source": [
    "## District Summary\n",
    "\n",
    "* Calculate the total number of schools\n",
    "\n",
    "* Calculate the total number of students\n",
    "\n",
    "* Calculate the total budget\n",
    "\n",
    "* Calculate the average math score \n",
    "\n",
    "* Calculate the average reading score\n",
    "\n",
    "* Calculate the percentage of students with a passing math score (70 or greater)\n",
    "\n",
    "* Calculate the percentage of students with a passing reading score (70 or greater)\n",
    "\n",
    "* Calculate the percentage of students who passed math **and** reading (% Overall Passing)\n",
    "\n",
    "* Create a dataframe to hold the above results\n",
    "\n",
    "* Optional: give the displayed data cleaner formatting"
   ]
  },
  {
   "cell_type": "code",
   "execution_count": 2,
   "metadata": {},
   "outputs": [
    {
     "data": {
      "text/plain": [
       "85.80546336482001"
      ]
     },
     "execution_count": 2,
     "metadata": {},
     "output_type": "execute_result"
    }
   ],
   "source": [
    "#Calculate percentage of students passing grades\n",
    "\n",
    "#passing reading\n",
    "\n",
    "pass_grades_reading = school_data_complete.loc[school_data_complete[\"reading_score\"] >= 70] \n",
    "pass_reading_percentage = (pass_grades_reading.reading_score.count() / student_data_df.student_name.count())*100\n",
    "\n",
    "#passing math\n",
    "\n",
    "pass_grades_math = school_data_complete.loc[school_data_complete[\"math_score\"] >= 70]\n",
    "pass_math_percentage = (pass_grades_math.math_score.count() / student_data_df.student_name.count())*100\n",
    "\n",
    "#pasing reading and math\n",
    "\n",
    "combo_reading_math_passing_grade = pass_grades_math.loc[pass_grades_math[\"reading_score\"] >= 70]\n",
    "combo_reading_math_percent = (combo_reading_math_passing_grade.reading_score.count() / student_data_df.student_name.count())*100\n",
    "\n",
    "pass_reading_percentage"
   ]
  },
  {
   "cell_type": "code",
   "execution_count": 3,
   "metadata": {},
   "outputs": [],
   "source": [
    "sc = school_data_df.school_name.count()\n",
    "st = student_data_df.student_name.count()\n",
    "bu = school_data_df[\"budget\"].sum()\n",
    "rd_sc = school_data_complete.reading_score.mean()\n",
    "mt_sc = school_data_complete.math_score.mean()\n",
    "rd_pass = pass_reading_percentage\n",
    "mt_pass = pass_math_percentage\n",
    "cmb_pass = combo_reading_math_percent"
   ]
  },
  {
   "cell_type": "code",
   "execution_count": 4,
   "metadata": {},
   "outputs": [],
   "source": [
    "a = (\"total schools\")\n",
    "b = (\"total students\")\n",
    "c = (\"total budget\")\n",
    "d = (\"average reading score\")\n",
    "e = (\"average math score\")\n",
    "f = (\"% passing reading\")\n",
    "g = (\"% passing math\")\n",
    "h = (\"% overal passing\")\n",
    "j = (\"Per Student Budget\")\n",
    "k = (\"School type\")\n"
   ]
  },
  {
   "cell_type": "code",
   "execution_count": 5,
   "metadata": {},
   "outputs": [
    {
     "data": {
      "text/plain": [
       "74.9808526933878"
      ]
     },
     "execution_count": 5,
     "metadata": {},
     "output_type": "execute_result"
    }
   ],
   "source": [
    "\n",
    "pass_math_percentage"
   ]
  },
  {
   "cell_type": "code",
   "execution_count": 6,
   "metadata": {},
   "outputs": [
    {
     "data": {
      "text/plain": [
       "65.17232575950983"
      ]
     },
     "execution_count": 6,
     "metadata": {},
     "output_type": "execute_result"
    }
   ],
   "source": [
    "\n",
    "combo_reading_math_percent"
   ]
  },
  {
   "cell_type": "code",
   "execution_count": 7,
   "metadata": {},
   "outputs": [
    {
     "data": {
      "text/html": [
       "<style  type=\"text/css\" >\n",
       "</style><table id=\"T_9673a21a_51ca_11eb_b692_983b8fac92e7\" ><thead>    <tr>        <th class=\"blank level0\" ></th>        <th class=\"col_heading level0 col0\" >total schools</th>        <th class=\"col_heading level0 col1\" >total students</th>        <th class=\"col_heading level0 col2\" >total budget</th>        <th class=\"col_heading level0 col3\" >average reading score</th>        <th class=\"col_heading level0 col4\" >average math score</th>        <th class=\"col_heading level0 col5\" >% passing reading</th>        <th class=\"col_heading level0 col6\" >% passing math</th>        <th class=\"col_heading level0 col7\" >% overal passing</th>    </tr></thead><tbody>\n",
       "                <tr>\n",
       "                        <th id=\"T_9673a21a_51ca_11eb_b692_983b8fac92e7level0_row0\" class=\"row_heading level0 row0\" >0</th>\n",
       "                        <td id=\"T_9673a21a_51ca_11eb_b692_983b8fac92e7row0_col0\" class=\"data row0 col0\" >15</td>\n",
       "                        <td id=\"T_9673a21a_51ca_11eb_b692_983b8fac92e7row0_col1\" class=\"data row0 col1\" >39170</td>\n",
       "                        <td id=\"T_9673a21a_51ca_11eb_b692_983b8fac92e7row0_col2\" class=\"data row0 col2\" >$24649428.00</td>\n",
       "                        <td id=\"T_9673a21a_51ca_11eb_b692_983b8fac92e7row0_col3\" class=\"data row0 col3\" >81.88</td>\n",
       "                        <td id=\"T_9673a21a_51ca_11eb_b692_983b8fac92e7row0_col4\" class=\"data row0 col4\" >78.99</td>\n",
       "                        <td id=\"T_9673a21a_51ca_11eb_b692_983b8fac92e7row0_col5\" class=\"data row0 col5\" >85.81%</td>\n",
       "                        <td id=\"T_9673a21a_51ca_11eb_b692_983b8fac92e7row0_col6\" class=\"data row0 col6\" >74.98%</td>\n",
       "                        <td id=\"T_9673a21a_51ca_11eb_b692_983b8fac92e7row0_col7\" class=\"data row0 col7\" >65.17%</td>\n",
       "            </tr>\n",
       "    </tbody></table>"
      ],
      "text/plain": [
       "<pandas.io.formats.style.Styler at 0x24f3eaf3278>"
      ]
     },
     "execution_count": 7,
     "metadata": {},
     "output_type": "execute_result"
    }
   ],
   "source": [
    "#format data for summary table\n",
    "#data = [{'a': 1, 'b': 2},{'a': 5, 'b': 10, 'c': 20}]\n",
    "data = [{a : sc, b : st, c: bu, d: rd_sc, e: mt_sc, f: rd_pass, g: mt_pass, h: cmb_pass}]\n",
    "df = pd.DataFrame(data)\n",
    "df[\"total budget\"] = df[\"total budget\"].map(\"${:.2f}\".format)\n",
    "df[\"average reading score\"] = df[\"average reading score\"].map(\"{:.2f}\".format)\n",
    "df[\"average math score\"] = df[\"average math score\"].map(\"{:.2f}\".format)\n",
    "df[\"% passing reading\"] = df[\"% passing reading\"].map(\"{:.2f}%\".format)\n",
    "df[\"% passing math\"] = df[\"% passing math\"].map(\"{:.2f}%\".format)\n",
    "df[\"% overal passing\"] = df[\"% overal passing\"].map(\"{:.2f}%\".format)\n",
    "df.style\n"
   ]
  },
  {
   "cell_type": "markdown",
   "metadata": {},
   "source": [
    "## School Summary"
   ]
  },
  {
   "cell_type": "markdown",
   "metadata": {},
   "source": [
    "* Create an overview table that summarizes key metrics about each school, including:\n",
    "  * School Name\n",
    "  * School Type\n",
    "  * Total Students\n",
    "  * Total School Budget\n",
    "  * Per Student Budget\n",
    "  * Average Math Score\n",
    "  * Average Reading Score\n",
    "  * % Passing Math\n",
    "  * % Passing Reading\n",
    "  * % Overall Passing (The percentage of students that passed math **and** reading.)\n",
    "  \n",
    "* Create a dataframe to hold the above results"
   ]
  },
  {
   "cell_type": "code",
   "execution_count": 9,
   "metadata": {},
   "outputs": [
    {
     "data": {
      "text/html": [
       "<div>\n",
       "<style scoped>\n",
       "    .dataframe tbody tr th:only-of-type {\n",
       "        vertical-align: middle;\n",
       "    }\n",
       "\n",
       "    .dataframe tbody tr th {\n",
       "        vertical-align: top;\n",
       "    }\n",
       "\n",
       "    .dataframe thead th {\n",
       "        text-align: right;\n",
       "    }\n",
       "</style>\n",
       "<table border=\"1\" class=\"dataframe\">\n",
       "  <thead>\n",
       "    <tr style=\"text-align: right;\">\n",
       "      <th></th>\n",
       "      <th>Student ID</th>\n",
       "      <th>student_name</th>\n",
       "      <th>gender</th>\n",
       "      <th>grade</th>\n",
       "      <th>reading_score</th>\n",
       "      <th>math_score</th>\n",
       "      <th>School ID</th>\n",
       "      <th>type</th>\n",
       "      <th>size</th>\n",
       "      <th>budget</th>\n",
       "    </tr>\n",
       "    <tr>\n",
       "      <th>school_name</th>\n",
       "      <th></th>\n",
       "      <th></th>\n",
       "      <th></th>\n",
       "      <th></th>\n",
       "      <th></th>\n",
       "      <th></th>\n",
       "      <th></th>\n",
       "      <th></th>\n",
       "      <th></th>\n",
       "      <th></th>\n",
       "    </tr>\n",
       "  </thead>\n",
       "  <tbody>\n",
       "    <tr>\n",
       "      <th>Bailey High School</th>\n",
       "      <td>17871</td>\n",
       "      <td>Blake Martin</td>\n",
       "      <td>M</td>\n",
       "      <td>9th</td>\n",
       "      <td>75</td>\n",
       "      <td>59</td>\n",
       "      <td>7</td>\n",
       "      <td>District</td>\n",
       "      <td>4976</td>\n",
       "      <td>3124928</td>\n",
       "    </tr>\n",
       "    <tr>\n",
       "      <th>Cabrera High School</th>\n",
       "      <td>16013</td>\n",
       "      <td>Olivia Short</td>\n",
       "      <td>F</td>\n",
       "      <td>11th</td>\n",
       "      <td>94</td>\n",
       "      <td>94</td>\n",
       "      <td>6</td>\n",
       "      <td>Charter</td>\n",
       "      <td>1858</td>\n",
       "      <td>1081356</td>\n",
       "    </tr>\n",
       "    <tr>\n",
       "      <th>Figueroa High School</th>\n",
       "      <td>2917</td>\n",
       "      <td>Amy Jacobs</td>\n",
       "      <td>F</td>\n",
       "      <td>10th</td>\n",
       "      <td>85</td>\n",
       "      <td>87</td>\n",
       "      <td>1</td>\n",
       "      <td>District</td>\n",
       "      <td>2949</td>\n",
       "      <td>1884411</td>\n",
       "    </tr>\n",
       "    <tr>\n",
       "      <th>Ford High School</th>\n",
       "      <td>34796</td>\n",
       "      <td>Michael Mercado</td>\n",
       "      <td>M</td>\n",
       "      <td>9th</td>\n",
       "      <td>66</td>\n",
       "      <td>94</td>\n",
       "      <td>13</td>\n",
       "      <td>District</td>\n",
       "      <td>2739</td>\n",
       "      <td>1763916</td>\n",
       "    </tr>\n",
       "    <tr>\n",
       "      <th>Griffin High School</th>\n",
       "      <td>12262</td>\n",
       "      <td>Heather Wright</td>\n",
       "      <td>F</td>\n",
       "      <td>11th</td>\n",
       "      <td>79</td>\n",
       "      <td>68</td>\n",
       "      <td>4</td>\n",
       "      <td>Charter</td>\n",
       "      <td>1468</td>\n",
       "      <td>917500</td>\n",
       "    </tr>\n",
       "    <tr>\n",
       "      <th>Hernandez High School</th>\n",
       "      <td>7627</td>\n",
       "      <td>Russell Davis</td>\n",
       "      <td>M</td>\n",
       "      <td>10th</td>\n",
       "      <td>70</td>\n",
       "      <td>88</td>\n",
       "      <td>3</td>\n",
       "      <td>District</td>\n",
       "      <td>4635</td>\n",
       "      <td>3022020</td>\n",
       "    </tr>\n",
       "    <tr>\n",
       "      <th>Holden High School</th>\n",
       "      <td>22847</td>\n",
       "      <td>Daniel Rodriguez</td>\n",
       "      <td>M</td>\n",
       "      <td>11th</td>\n",
       "      <td>86</td>\n",
       "      <td>92</td>\n",
       "      <td>8</td>\n",
       "      <td>Charter</td>\n",
       "      <td>427</td>\n",
       "      <td>248087</td>\n",
       "    </tr>\n",
       "    <tr>\n",
       "      <th>Huang High School</th>\n",
       "      <td>0</td>\n",
       "      <td>Paul Bradley</td>\n",
       "      <td>M</td>\n",
       "      <td>9th</td>\n",
       "      <td>66</td>\n",
       "      <td>79</td>\n",
       "      <td>0</td>\n",
       "      <td>District</td>\n",
       "      <td>2917</td>\n",
       "      <td>1910635</td>\n",
       "    </tr>\n",
       "    <tr>\n",
       "      <th>Johnson High School</th>\n",
       "      <td>30035</td>\n",
       "      <td>Lisa Casey</td>\n",
       "      <td>F</td>\n",
       "      <td>12th</td>\n",
       "      <td>87</td>\n",
       "      <td>87</td>\n",
       "      <td>12</td>\n",
       "      <td>District</td>\n",
       "      <td>4761</td>\n",
       "      <td>3094650</td>\n",
       "    </tr>\n",
       "    <tr>\n",
       "      <th>Pena High School</th>\n",
       "      <td>23274</td>\n",
       "      <td>Alec Davis</td>\n",
       "      <td>M</td>\n",
       "      <td>9th</td>\n",
       "      <td>91</td>\n",
       "      <td>75</td>\n",
       "      <td>9</td>\n",
       "      <td>Charter</td>\n",
       "      <td>962</td>\n",
       "      <td>585858</td>\n",
       "    </tr>\n",
       "    <tr>\n",
       "      <th>Rodriguez High School</th>\n",
       "      <td>26036</td>\n",
       "      <td>Sherry Jenkins</td>\n",
       "      <td>F</td>\n",
       "      <td>11th</td>\n",
       "      <td>74</td>\n",
       "      <td>81</td>\n",
       "      <td>11</td>\n",
       "      <td>District</td>\n",
       "      <td>3999</td>\n",
       "      <td>2547363</td>\n",
       "    </tr>\n",
       "    <tr>\n",
       "      <th>Shelton High School</th>\n",
       "      <td>5866</td>\n",
       "      <td>Jamie Montgomery</td>\n",
       "      <td>F</td>\n",
       "      <td>12th</td>\n",
       "      <td>70</td>\n",
       "      <td>91</td>\n",
       "      <td>2</td>\n",
       "      <td>Charter</td>\n",
       "      <td>1761</td>\n",
       "      <td>1056600</td>\n",
       "    </tr>\n",
       "    <tr>\n",
       "      <th>Thomas High School</th>\n",
       "      <td>37535</td>\n",
       "      <td>Norma Mata</td>\n",
       "      <td>F</td>\n",
       "      <td>10th</td>\n",
       "      <td>76</td>\n",
       "      <td>76</td>\n",
       "      <td>14</td>\n",
       "      <td>Charter</td>\n",
       "      <td>1635</td>\n",
       "      <td>1043130</td>\n",
       "    </tr>\n",
       "    <tr>\n",
       "      <th>Wilson High School</th>\n",
       "      <td>13730</td>\n",
       "      <td>Kelli Anderson</td>\n",
       "      <td>F</td>\n",
       "      <td>10th</td>\n",
       "      <td>84</td>\n",
       "      <td>71</td>\n",
       "      <td>5</td>\n",
       "      <td>Charter</td>\n",
       "      <td>2283</td>\n",
       "      <td>1319574</td>\n",
       "    </tr>\n",
       "    <tr>\n",
       "      <th>Wright High School</th>\n",
       "      <td>24236</td>\n",
       "      <td>Aaron Johnson</td>\n",
       "      <td>M</td>\n",
       "      <td>10th</td>\n",
       "      <td>89</td>\n",
       "      <td>72</td>\n",
       "      <td>10</td>\n",
       "      <td>Charter</td>\n",
       "      <td>1800</td>\n",
       "      <td>1049400</td>\n",
       "    </tr>\n",
       "  </tbody>\n",
       "</table>\n",
       "</div>"
      ],
      "text/plain": [
       "                       Student ID      student_name gender grade  \\\n",
       "school_name                                                        \n",
       "Bailey High School          17871      Blake Martin      M   9th   \n",
       "Cabrera High School         16013      Olivia Short      F  11th   \n",
       "Figueroa High School         2917        Amy Jacobs      F  10th   \n",
       "Ford High School            34796   Michael Mercado      M   9th   \n",
       "Griffin High School         12262    Heather Wright      F  11th   \n",
       "Hernandez High School        7627     Russell Davis      M  10th   \n",
       "Holden High School          22847  Daniel Rodriguez      M  11th   \n",
       "Huang High School               0      Paul Bradley      M   9th   \n",
       "Johnson High School         30035        Lisa Casey      F  12th   \n",
       "Pena High School            23274        Alec Davis      M   9th   \n",
       "Rodriguez High School       26036    Sherry Jenkins      F  11th   \n",
       "Shelton High School          5866  Jamie Montgomery      F  12th   \n",
       "Thomas High School          37535        Norma Mata      F  10th   \n",
       "Wilson High School          13730    Kelli Anderson      F  10th   \n",
       "Wright High School          24236     Aaron Johnson      M  10th   \n",
       "\n",
       "                       reading_score  math_score  School ID      type  size  \\\n",
       "school_name                                                                   \n",
       "Bailey High School                75          59          7  District  4976   \n",
       "Cabrera High School               94          94          6   Charter  1858   \n",
       "Figueroa High School              85          87          1  District  2949   \n",
       "Ford High School                  66          94         13  District  2739   \n",
       "Griffin High School               79          68          4   Charter  1468   \n",
       "Hernandez High School             70          88          3  District  4635   \n",
       "Holden High School                86          92          8   Charter   427   \n",
       "Huang High School                 66          79          0  District  2917   \n",
       "Johnson High School               87          87         12  District  4761   \n",
       "Pena High School                  91          75          9   Charter   962   \n",
       "Rodriguez High School             74          81         11  District  3999   \n",
       "Shelton High School               70          91          2   Charter  1761   \n",
       "Thomas High School                76          76         14   Charter  1635   \n",
       "Wilson High School                84          71          5   Charter  2283   \n",
       "Wright High School                89          72         10   Charter  1800   \n",
       "\n",
       "                        budget  \n",
       "school_name                     \n",
       "Bailey High School     3124928  \n",
       "Cabrera High School    1081356  \n",
       "Figueroa High School   1884411  \n",
       "Ford High School       1763916  \n",
       "Griffin High School     917500  \n",
       "Hernandez High School  3022020  \n",
       "Holden High School      248087  \n",
       "Huang High School      1910635  \n",
       "Johnson High School    3094650  \n",
       "Pena High School        585858  \n",
       "Rodriguez High School  2547363  \n",
       "Shelton High School    1056600  \n",
       "Thomas High School     1043130  \n",
       "Wilson High School     1319574  \n",
       "Wright High School     1049400  "
      ]
     },
     "execution_count": 9,
     "metadata": {},
     "output_type": "execute_result"
    }
   ],
   "source": [
    "# applying groupby() function to \n",
    "# group the data on team value. \n",
    "school_summary = school_data_complete_df.groupby('school_name') \n",
    "school_names = school_data_complete_df.school_name.sort_values.unique()\n",
    "\n",
    "\n",
    "\n",
    "#gk_df = pd.dataframe(gk_df)\n",
    "# Let's print the first entries \n",
    "# in all the groups formed. \n",
    "#gk_df.first()\n",
    "\n",
    "gk_df.first()"
   ]
  },
  {
   "cell_type": "code",
   "execution_count": 12,
   "metadata": {},
   "outputs": [
    {
     "data": {
      "text/html": [
       "<div>\n",
       "<style scoped>\n",
       "    .dataframe tbody tr th:only-of-type {\n",
       "        vertical-align: middle;\n",
       "    }\n",
       "\n",
       "    .dataframe tbody tr th {\n",
       "        vertical-align: top;\n",
       "    }\n",
       "\n",
       "    .dataframe thead th {\n",
       "        text-align: right;\n",
       "    }\n",
       "</style>\n",
       "<table border=\"1\" class=\"dataframe\">\n",
       "  <thead>\n",
       "    <tr style=\"text-align: right;\">\n",
       "      <th></th>\n",
       "      <th>school_name</th>\n",
       "      <th>type</th>\n",
       "    </tr>\n",
       "  </thead>\n",
       "  <tbody>\n",
       "    <tr>\n",
       "      <th>0</th>\n",
       "      <td>Huang High School</td>\n",
       "      <td>District</td>\n",
       "    </tr>\n",
       "    <tr>\n",
       "      <th>1</th>\n",
       "      <td>Huang High School</td>\n",
       "      <td>District</td>\n",
       "    </tr>\n",
       "    <tr>\n",
       "      <th>2</th>\n",
       "      <td>Huang High School</td>\n",
       "      <td>District</td>\n",
       "    </tr>\n",
       "    <tr>\n",
       "      <th>3</th>\n",
       "      <td>Huang High School</td>\n",
       "      <td>District</td>\n",
       "    </tr>\n",
       "    <tr>\n",
       "      <th>4</th>\n",
       "      <td>Huang High School</td>\n",
       "      <td>District</td>\n",
       "    </tr>\n",
       "  </tbody>\n",
       "</table>\n",
       "</div>"
      ],
      "text/plain": [
       "         school_name      type\n",
       "0  Huang High School  District\n",
       "1  Huang High School  District\n",
       "2  Huang High School  District\n",
       "3  Huang High School  District\n",
       "4  Huang High School  District"
      ]
     },
     "execution_count": 12,
     "metadata": {},
     "output_type": "execute_result"
    }
   ],
   "source": [
    "sch_gk_df = school_data_complete_df[['school_name', 'type']]\n",
    "\n",
    "sch_gk_df.head()"
   ]
  },
  {
   "cell_type": "code",
   "execution_count": 13,
   "metadata": {},
   "outputs": [
    {
     "data": {
      "text/html": [
       "<div>\n",
       "<style scoped>\n",
       "    .dataframe tbody tr th:only-of-type {\n",
       "        vertical-align: middle;\n",
       "    }\n",
       "\n",
       "    .dataframe tbody tr th {\n",
       "        vertical-align: top;\n",
       "    }\n",
       "\n",
       "    .dataframe thead th {\n",
       "        text-align: right;\n",
       "    }\n",
       "</style>\n",
       "<table border=\"1\" class=\"dataframe\">\n",
       "  <thead>\n",
       "    <tr style=\"text-align: right;\">\n",
       "      <th></th>\n",
       "      <th>type</th>\n",
       "    </tr>\n",
       "    <tr>\n",
       "      <th>school_name</th>\n",
       "      <th></th>\n",
       "    </tr>\n",
       "  </thead>\n",
       "  <tbody>\n",
       "    <tr>\n",
       "      <th>Bailey High School</th>\n",
       "      <td>District</td>\n",
       "    </tr>\n",
       "    <tr>\n",
       "      <th>Cabrera High School</th>\n",
       "      <td>Charter</td>\n",
       "    </tr>\n",
       "    <tr>\n",
       "      <th>Figueroa High School</th>\n",
       "      <td>District</td>\n",
       "    </tr>\n",
       "    <tr>\n",
       "      <th>Ford High School</th>\n",
       "      <td>District</td>\n",
       "    </tr>\n",
       "    <tr>\n",
       "      <th>Griffin High School</th>\n",
       "      <td>Charter</td>\n",
       "    </tr>\n",
       "    <tr>\n",
       "      <th>Hernandez High School</th>\n",
       "      <td>District</td>\n",
       "    </tr>\n",
       "    <tr>\n",
       "      <th>Holden High School</th>\n",
       "      <td>Charter</td>\n",
       "    </tr>\n",
       "    <tr>\n",
       "      <th>Huang High School</th>\n",
       "      <td>District</td>\n",
       "    </tr>\n",
       "    <tr>\n",
       "      <th>Johnson High School</th>\n",
       "      <td>District</td>\n",
       "    </tr>\n",
       "    <tr>\n",
       "      <th>Pena High School</th>\n",
       "      <td>Charter</td>\n",
       "    </tr>\n",
       "    <tr>\n",
       "      <th>Rodriguez High School</th>\n",
       "      <td>District</td>\n",
       "    </tr>\n",
       "    <tr>\n",
       "      <th>Shelton High School</th>\n",
       "      <td>Charter</td>\n",
       "    </tr>\n",
       "    <tr>\n",
       "      <th>Thomas High School</th>\n",
       "      <td>Charter</td>\n",
       "    </tr>\n",
       "    <tr>\n",
       "      <th>Wilson High School</th>\n",
       "      <td>Charter</td>\n",
       "    </tr>\n",
       "    <tr>\n",
       "      <th>Wright High School</th>\n",
       "      <td>Charter</td>\n",
       "    </tr>\n",
       "  </tbody>\n",
       "</table>\n",
       "</div>"
      ],
      "text/plain": [
       "                           type\n",
       "school_name                    \n",
       "Bailey High School     District\n",
       "Cabrera High School     Charter\n",
       "Figueroa High School   District\n",
       "Ford High School       District\n",
       "Griffin High School     Charter\n",
       "Hernandez High School  District\n",
       "Holden High School      Charter\n",
       "Huang High School      District\n",
       "Johnson High School    District\n",
       "Pena High School        Charter\n",
       "Rodriguez High School  District\n",
       "Shelton High School     Charter\n",
       "Thomas High School      Charter\n",
       "Wilson High School      Charter\n",
       "Wright High School      Charter"
      ]
     },
     "execution_count": 13,
     "metadata": {},
     "output_type": "execute_result"
    }
   ],
   "source": [
    "sch_grp_gk_df = sch_gk_df.groupby('school_name')\n",
    "\n",
    "sch_grp_gk_df.first()"
   ]
  },
  {
   "cell_type": "code",
   "execution_count": 14,
   "metadata": {
    "scrolled": false
   },
   "outputs": [
    {
     "data": {
      "text/plain": [
       "school_name\n",
       "Bailey High School       4976\n",
       "Cabrera High School      1858\n",
       "Figueroa High School     2949\n",
       "Ford High School         2739\n",
       "Griffin High School      1468\n",
       "Hernandez High School    4635\n",
       "Holden High School        427\n",
       "Huang High School        2917\n",
       "Johnson High School      4761\n",
       "Pena High School          962\n",
       "Rodriguez High School    3999\n",
       "Shelton High School      1761\n",
       "Thomas High School       1635\n",
       "Wilson High School       2283\n",
       "Wright High School       1800\n",
       "Name: student_name, dtype: int64"
      ]
     },
     "execution_count": 14,
     "metadata": {},
     "output_type": "execute_result"
    }
   ],
   "source": [
    "#grouped_usa_df[\"duration (seconds)\"].sum()\n",
    "student_df = gk_df[\"student_name\"].count()\n",
    "student_df\n"
   ]
  },
  {
   "cell_type": "code",
   "execution_count": 15,
   "metadata": {},
   "outputs": [],
   "source": [
    "bud_df = gk_df[\"budget\"].sum()\n",
    "\n",
    "#bud_df.first()"
   ]
  },
  {
   "cell_type": "code",
   "execution_count": 19,
   "metadata": {},
   "outputs": [
    {
     "ename": "TypeError",
     "evalue": "first() missing 1 required positional argument: 'offset'",
     "output_type": "error",
     "traceback": [
      "\u001b[1;31m---------------------------------------------------------------------------\u001b[0m",
      "\u001b[1;31mTypeError\u001b[0m                                 Traceback (most recent call last)",
      "\u001b[1;32m<ipython-input-19-d4c011d83918>\u001b[0m in \u001b[0;36m<module>\u001b[1;34m\u001b[0m\n\u001b[0;32m      2\u001b[0m \u001b[1;33m\u001b[0m\u001b[0m\n\u001b[0;32m      3\u001b[0m \u001b[1;33m\u001b[0m\u001b[0m\n\u001b[1;32m----> 4\u001b[1;33m \u001b[0mbud_for_df\u001b[0m\u001b[1;33m.\u001b[0m\u001b[0mfirst\u001b[0m\u001b[1;33m(\u001b[0m\u001b[1;33m)\u001b[0m\u001b[1;33m\u001b[0m\u001b[1;33m\u001b[0m\u001b[0m\n\u001b[0m",
      "\u001b[1;31mTypeError\u001b[0m: first() missing 1 required positional argument: 'offset'"
     ]
    }
   ],
   "source": [
    "bud_for_df = bud_df.map(\"${:.2f}\".format)\n",
    "\n",
    "\n",
    "bud_for_df.first()"
   ]
  },
  {
   "cell_type": "code",
   "execution_count": 18,
   "metadata": {},
   "outputs": [
    {
     "ename": "TypeError",
     "evalue": "first() missing 1 required positional argument: 'offset'",
     "output_type": "error",
     "traceback": [
      "\u001b[1;31m---------------------------------------------------------------------------\u001b[0m",
      "\u001b[1;31mTypeError\u001b[0m                                 Traceback (most recent call last)",
      "\u001b[1;32m<ipython-input-18-b5a2ec8aa85b>\u001b[0m in \u001b[0;36m<module>\u001b[1;34m\u001b[0m\n\u001b[1;32m----> 1\u001b[1;33m \u001b[0mbud_for_df\u001b[0m\u001b[1;33m.\u001b[0m\u001b[0mfirst\u001b[0m\u001b[1;33m(\u001b[0m\u001b[1;33m)\u001b[0m\u001b[1;33m\u001b[0m\u001b[1;33m\u001b[0m\u001b[0m\n\u001b[0m",
      "\u001b[1;31mTypeError\u001b[0m: first() missing 1 required positional argument: 'offset'"
     ]
    }
   ],
   "source": [
    "bud_for_df.first()"
   ]
  },
  {
   "cell_type": "code",
   "execution_count": 2,
   "metadata": {
    "scrolled": true
   },
   "outputs": [
    {
     "ename": "NameError",
     "evalue": "name 'bud_df' is not defined",
     "output_type": "error",
     "traceback": [
      "\u001b[1;31m---------------------------------------------------------------------------\u001b[0m",
      "\u001b[1;31mNameError\u001b[0m                                 Traceback (most recent call last)",
      "\u001b[1;32m<ipython-input-2-b0c901a01aad>\u001b[0m in \u001b[0;36m<module>\u001b[1;34m\u001b[0m\n\u001b[1;32m----> 1\u001b[1;33m \u001b[0mper_stu_budget\u001b[0m \u001b[1;33m=\u001b[0m  \u001b[0mbud_df\u001b[0m \u001b[1;33m/\u001b[0m \u001b[0mstudent_df\u001b[0m\u001b[1;33m\u001b[0m\u001b[1;33m\u001b[0m\u001b[0m\n\u001b[0m\u001b[0;32m      2\u001b[0m \u001b[0mper_stu_budget\u001b[0m\u001b[1;33m\u001b[0m\u001b[1;33m\u001b[0m\u001b[0m\n\u001b[0;32m      3\u001b[0m \u001b[0mper_stu_for_budget\u001b[0m \u001b[1;33m=\u001b[0m \u001b[0mper_stu_budget\u001b[0m\u001b[1;33m.\u001b[0m\u001b[0mmap\u001b[0m\u001b[1;33m(\u001b[0m\u001b[1;34m\"${:.2f}\"\u001b[0m\u001b[1;33m.\u001b[0m\u001b[0mformat\u001b[0m\u001b[1;33m)\u001b[0m\u001b[1;33m\u001b[0m\u001b[1;33m\u001b[0m\u001b[0m\n\u001b[0;32m      4\u001b[0m \u001b[0mper_stu_for_budget\u001b[0m\u001b[1;33m\u001b[0m\u001b[1;33m\u001b[0m\u001b[0m\n",
      "\u001b[1;31mNameError\u001b[0m: name 'bud_df' is not defined"
     ]
    }
   ],
   "source": [
    "per_stu_budget =  bud_df / student_df\n",
    "per_stu_budget\n",
    "per_stu_for_budget = per_stu_budget.map(\"${:.2f}\".format)\n",
    "per_stu_for_budget"
   ]
  },
  {
   "cell_type": "code",
   "execution_count": 3,
   "metadata": {},
   "outputs": [
    {
     "ename": "NameError",
     "evalue": "name 'gk_df' is not defined",
     "output_type": "error",
     "traceback": [
      "\u001b[1;31m---------------------------------------------------------------------------\u001b[0m",
      "\u001b[1;31mNameError\u001b[0m                                 Traceback (most recent call last)",
      "\u001b[1;32m<ipython-input-3-f738684b730a>\u001b[0m in \u001b[0;36m<module>\u001b[1;34m\u001b[0m\n\u001b[1;32m----> 1\u001b[1;33m \u001b[0msrd_sc_df\u001b[0m \u001b[1;33m=\u001b[0m \u001b[0mgk_df\u001b[0m\u001b[1;33m.\u001b[0m\u001b[0mreading_score\u001b[0m\u001b[1;33m.\u001b[0m\u001b[0mmean\u001b[0m\u001b[1;33m(\u001b[0m\u001b[1;33m)\u001b[0m\u001b[1;33m\u001b[0m\u001b[1;33m\u001b[0m\u001b[0m\n\u001b[0m\u001b[0;32m      2\u001b[0m \u001b[0msrd_sc_df\u001b[0m\u001b[1;33m\u001b[0m\u001b[1;33m\u001b[0m\u001b[0m\n",
      "\u001b[1;31mNameError\u001b[0m: name 'gk_df' is not defined"
     ]
    }
   ],
   "source": [
    "srd_sc_df = gk_df.reading_score.mean()\n",
    "srd_sc_df"
   ]
  },
  {
   "cell_type": "code",
   "execution_count": 4,
   "metadata": {},
   "outputs": [
    {
     "ename": "NameError",
     "evalue": "name 'gk_df' is not defined",
     "output_type": "error",
     "traceback": [
      "\u001b[1;31m---------------------------------------------------------------------------\u001b[0m",
      "\u001b[1;31mNameError\u001b[0m                                 Traceback (most recent call last)",
      "\u001b[1;32m<ipython-input-4-d312544fa607>\u001b[0m in \u001b[0;36m<module>\u001b[1;34m\u001b[0m\n\u001b[1;32m----> 1\u001b[1;33m \u001b[0msmt_sc_df\u001b[0m \u001b[1;33m=\u001b[0m \u001b[0mgk_df\u001b[0m\u001b[1;33m.\u001b[0m\u001b[0mmath_score\u001b[0m\u001b[1;33m.\u001b[0m\u001b[0mmean\u001b[0m\u001b[1;33m(\u001b[0m\u001b[1;33m)\u001b[0m\u001b[1;33m\u001b[0m\u001b[1;33m\u001b[0m\u001b[0m\n\u001b[0m\u001b[0;32m      2\u001b[0m \u001b[0msmt_sc_df\u001b[0m\u001b[1;33m\u001b[0m\u001b[1;33m\u001b[0m\u001b[0m\n",
      "\u001b[1;31mNameError\u001b[0m: name 'gk_df' is not defined"
     ]
    }
   ],
   "source": [
    "smt_sc_df = gk_df.math_score.mean()\n",
    "smt_sc_df"
   ]
  },
  {
   "cell_type": "code",
   "execution_count": 18,
   "metadata": {},
   "outputs": [
    {
     "ename": "AttributeError",
     "evalue": "'DataFrameGroupBy' object has no attribute 'loc'",
     "output_type": "error",
     "traceback": [
      "\u001b[1;31m---------------------------------------------------------------------------\u001b[0m",
      "\u001b[1;31mAttributeError\u001b[0m                            Traceback (most recent call last)",
      "\u001b[1;32m<ipython-input-18-0ccf22fc7742>\u001b[0m in \u001b[0;36m<module>\u001b[1;34m\u001b[0m\n\u001b[1;32m----> 1\u001b[1;33m \u001b[0mSch_pass_grades_reading_df\u001b[0m \u001b[1;33m=\u001b[0m \u001b[0mgk_df\u001b[0m\u001b[1;33m.\u001b[0m\u001b[0mloc\u001b[0m\u001b[1;33m[\u001b[0m\u001b[0mgk_df\u001b[0m\u001b[1;33m[\u001b[0m\u001b[1;34m\"reading_score\"\u001b[0m\u001b[1;33m]\u001b[0m \u001b[1;33m>=\u001b[0m \u001b[1;36m70\u001b[0m\u001b[1;33m]\u001b[0m\u001b[1;33m\u001b[0m\u001b[1;33m\u001b[0m\u001b[0m\n\u001b[0m\u001b[0;32m      2\u001b[0m \u001b[0mSch_pass_grades_reading_df\u001b[0m\u001b[1;33m\u001b[0m\u001b[1;33m\u001b[0m\u001b[0m\n\u001b[0;32m      3\u001b[0m \u001b[1;33m\u001b[0m\u001b[0m\n\u001b[0;32m      4\u001b[0m \u001b[1;31m#pass_reading_percentage = (Sch_pass_grades_reading_df.count() / student_df.count())*100\u001b[0m\u001b[1;33m\u001b[0m\u001b[1;33m\u001b[0m\u001b[1;33m\u001b[0m\u001b[0m\n\u001b[0;32m      5\u001b[0m \u001b[1;33m\u001b[0m\u001b[0m\n",
      "\u001b[1;32m~\\anaconda3\\envs\\py36\\lib\\site-packages\\pandas\\core\\groupby\\groupby.py\u001b[0m in \u001b[0;36m__getattr__\u001b[1;34m(self, attr)\u001b[0m\n\u001b[0;32m    579\u001b[0m \u001b[1;33m\u001b[0m\u001b[0m\n\u001b[0;32m    580\u001b[0m         raise AttributeError(\n\u001b[1;32m--> 581\u001b[1;33m             \u001b[1;34mf\"'{type(self).__name__}' object has no attribute '{attr}'\"\u001b[0m\u001b[1;33m\u001b[0m\u001b[1;33m\u001b[0m\u001b[0m\n\u001b[0m\u001b[0;32m    582\u001b[0m         )\n\u001b[0;32m    583\u001b[0m \u001b[1;33m\u001b[0m\u001b[0m\n",
      "\u001b[1;31mAttributeError\u001b[0m: 'DataFrameGroupBy' object has no attribute 'loc'"
     ]
    }
   ],
   "source": [
    "Sch_pass_grades_reading_df = gk_df.loc[gk_df[\"reading_score\"] >= 70] \n",
    "Sch_pass_grades_reading_df\n",
    "\n",
    "#pass_reading_percentage = (Sch_pass_grades_reading_df.count() / student_df.count())*100\n",
    "\n",
    "#sch_pass_reading_percentage"
   ]
  },
  {
   "cell_type": "code",
   "execution_count": null,
   "metadata": {},
   "outputs": [],
   "source": [
    "ssc = gk_df.school_name\n",
    "sst = gk_df.student_name.count()\n",
    "sbu = gk_df[\"budget\"].sum()\n",
    "srd_sc = gk_df.reading_score.mean()\n",
    "smt_sc = gk_df.math_score.mean()\n",
    "srd_pass = pass_reading_percentage\n",
    "smt_pass = pass_math_percentage\n",
    "scmb_pass = combo_reading_math_percent"
   ]
  },
  {
   "cell_type": "code",
   "execution_count": null,
   "metadata": {},
   "outputs": [],
   "source": [
    "data1 = [{a : ssc, b : sst, c: sbu, d: srd_sc, e: smt_sc, f: srd_pass, g: smt_pass, h: scmb_pass}]\n",
    "gk_df = pd.DataFrame(data1)\n",
    "#gk_df[\"total budget\"] = df[\"total budget\"].map(\"${:.2f}\".format)\n",
    "#gk_df[\"average reading score\"] = df[\"average reading score\"].map(\"{:.2f}\".format)\n",
    "#gk_df[\"average math score\"] = df[\"average math score\"].map(\"{:.2f}\".format)\n",
    "#gk_df[\"% passing reading\"] = df[\"% passing reading\"].map(\"{:.2f}%\".format)\n",
    "#gk_df[\"% passing math\"] = df[\"% passing math\"].map(\"{:.2f}%\".format)\n",
    "#gk_df[\"% overal passing\"] = df[\"% overal passing\"].map(\"{:.2f}%\".format)\n",
    "gk_df.style"
   ]
  },
  {
   "cell_type": "markdown",
   "metadata": {},
   "source": [
    "## Top Performing Schools (By % Overall Passing)"
   ]
  },
  {
   "cell_type": "markdown",
   "metadata": {},
   "source": [
    "* Sort and display the top five performing schools by % overall passing."
   ]
  },
  {
   "cell_type": "code",
   "execution_count": null,
   "metadata": {
    "scrolled": true
   },
   "outputs": [],
   "source": [
    "df.groupby(['Fruit','Name']).sum()"
   ]
  },
  {
   "cell_type": "markdown",
   "metadata": {},
   "source": [
    "## Bottom Performing Schools (By % Overall Passing)"
   ]
  },
  {
   "cell_type": "markdown",
   "metadata": {},
   "source": [
    "* Sort and display the five worst-performing schools by % overall passing."
   ]
  },
  {
   "cell_type": "code",
   "execution_count": null,
   "metadata": {},
   "outputs": [],
   "source": []
  },
  {
   "cell_type": "markdown",
   "metadata": {
    "collapsed": true
   },
   "source": [
    "## Math Scores by Grade"
   ]
  },
  {
   "cell_type": "markdown",
   "metadata": {},
   "source": [
    "* Create a table that lists the average Reading Score for students of each grade level (9th, 10th, 11th, 12th) at each school.\n",
    "\n",
    "  * Create a pandas series for each grade. Hint: use a conditional statement.\n",
    "  \n",
    "  * Group each series by school\n",
    "  \n",
    "  * Combine the series into a dataframe\n",
    "  \n",
    "  * Optional: give the displayed data cleaner formatting"
   ]
  },
  {
   "cell_type": "code",
   "execution_count": null,
   "metadata": {},
   "outputs": [],
   "source": []
  },
  {
   "cell_type": "markdown",
   "metadata": {},
   "source": [
    "## Reading Score by Grade "
   ]
  },
  {
   "cell_type": "markdown",
   "metadata": {},
   "source": [
    "* Perform the same operations as above for reading scores"
   ]
  },
  {
   "cell_type": "code",
   "execution_count": null,
   "metadata": {},
   "outputs": [],
   "source": []
  },
  {
   "cell_type": "markdown",
   "metadata": {},
   "source": [
    "## Scores by School Spending"
   ]
  },
  {
   "cell_type": "markdown",
   "metadata": {},
   "source": [
    "* Create a table that breaks down school performances based on average Spending Ranges (Per Student). Use 4 reasonable bins to group school spending. Include in the table each of the following:\n",
    "  * Average Math Score\n",
    "  * Average Reading Score\n",
    "  * % Passing Math\n",
    "  * % Passing Reading\n",
    "  * Overall Passing Rate (Average of the above two)"
   ]
  },
  {
   "cell_type": "code",
   "execution_count": null,
   "metadata": {},
   "outputs": [],
   "source": []
  },
  {
   "cell_type": "markdown",
   "metadata": {},
   "source": [
    "## Scores by School Size"
   ]
  },
  {
   "cell_type": "markdown",
   "metadata": {},
   "source": [
    "* Perform the same operations as above, based on school size."
   ]
  },
  {
   "cell_type": "code",
   "execution_count": null,
   "metadata": {
    "scrolled": true
   },
   "outputs": [],
   "source": []
  },
  {
   "cell_type": "markdown",
   "metadata": {},
   "source": [
    "## Scores by School Type"
   ]
  },
  {
   "cell_type": "markdown",
   "metadata": {},
   "source": [
    "* Perform the same operations as above, based on school type"
   ]
  },
  {
   "cell_type": "code",
   "execution_count": null,
   "metadata": {},
   "outputs": [],
   "source": []
  },
  {
   "cell_type": "code",
   "execution_count": null,
   "metadata": {},
   "outputs": [],
   "source": []
  },
  {
   "cell_type": "code",
   "execution_count": null,
   "metadata": {},
   "outputs": [],
   "source": []
  },
  {
   "cell_type": "code",
   "execution_count": null,
   "metadata": {},
   "outputs": [],
   "source": []
  },
  {
   "cell_type": "code",
   "execution_count": null,
   "metadata": {},
   "outputs": [],
   "source": []
  }
 ],
 "metadata": {
  "anaconda-cloud": {},
  "kernel_info": {
   "name": "python3"
  },
  "kernelspec": {
   "display_name": "Python 3",
   "language": "python",
   "name": "python3"
  },
  "language_info": {
   "codemirror_mode": {
    "name": "ipython",
    "version": 3
   },
   "file_extension": ".py",
   "mimetype": "text/x-python",
   "name": "python",
   "nbconvert_exporter": "python",
   "pygments_lexer": "ipython3",
   "version": "3.6.10"
  },
  "latex_envs": {
   "LaTeX_envs_menu_present": true,
   "autoclose": false,
   "autocomplete": true,
   "bibliofile": "biblio.bib",
   "cite_by": "apalike",
   "current_citInitial": 1,
   "eqLabelWithNumbers": true,
   "eqNumInitial": 1,
   "hotkeys": {
    "equation": "Ctrl-E",
    "itemize": "Ctrl-I"
   },
   "labels_anchors": false,
   "latex_user_defs": false,
   "report_style_numbering": false,
   "user_envs_cfg": false
  },
  "nteract": {
   "version": "0.8.4"
  }
 },
 "nbformat": 4,
 "nbformat_minor": 1
}
