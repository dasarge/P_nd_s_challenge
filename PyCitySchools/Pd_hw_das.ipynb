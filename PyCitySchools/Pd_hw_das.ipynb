{
 "cells": [
  {
   "cell_type": "markdown",
   "metadata": {},
   "source": [
    "### Note\n",
    "* Instructions have been included for each segment. You do not have to follow them exactly, but they are included to help you think through the steps."
   ]
  },
  {
   "cell_type": "code",
   "execution_count": 1,
   "metadata": {},
   "outputs": [],
   "source": [
    "# Dependencies and Setup\n",
    "import pandas as pd\n",
    "#import numpy as np\n",
    "\n",
    "# File to Load (Remember to Change These)\n",
    "school_data_to_load = \"Resources/schools_complete.csv\"\n",
    "student_data_to_load = \"Resources/students_complete.csv\"\n",
    "\n",
    "# Read School and Student Data File and store into Pandas DataFrames\n",
    "school_df = pd.read_csv(school_data_to_load)\n",
    "\n",
    "#schools_df = pd.read_csv(schools_file)\n",
    "student_df = pd.read_csv(student_data_to_load)\n",
    "\n",
    "#renames for merge\n",
    "school_df.rename(columns = {'name': 'school'}, inplace = True)\n",
    "school_df.rename(columns = {'name': 'student'}, inplace = True)\n",
    "\n",
    "# Combine the data into a single dataset.  \n",
    "\n",
    "school_data_complete = pd.merge(student_df, school_df, how=\"left\", on=[\"school_name\", \"school_name\"])\n",
    "#school_data_complete"
   ]
  },
  {
   "cell_type": "code",
   "execution_count": 2,
   "metadata": {},
   "outputs": [],
   "source": [
    "#school_data_complete.columns\n"
   ]
  },
  {
   "cell_type": "markdown",
   "metadata": {},
   "source": [
    "## District Summary\n",
    "\n",
    "* Calculate the total number of schools\n",
    "\n",
    "* Calculate the total number of students\n",
    "\n",
    "* Calculate the total budget\n",
    "\n",
    "* Calculate the average math score \n",
    "\n",
    "* Calculate the average reading score\n",
    "\n",
    "* Calculate the percentage of students with a passing math score (70 or greater)\n",
    "\n",
    "* Calculate the percentage of students with a passing reading score (70 or greater)\n",
    "\n",
    "* Calculate the percentage of students who passed math **and** reading (% Overall Passing)\n",
    "\n",
    "* Create a dataframe to hold the above results\n",
    "\n",
    "* Optional: give the displayed data cleaner formatting"
   ]
  },
  {
   "cell_type": "code",
   "execution_count": 3,
   "metadata": {},
   "outputs": [],
   "source": [
    "a = (\"total schools\")\n",
    "b = (\"total students\")\n",
    "c = (\"total budget\")\n",
    "d = (\"average reading score\")\n",
    "e = (\"average math score\")\n",
    "f = (\"combo pass score\")\n",
    "g = (\"% Passing Reading\")\n",
    "h = (\"% Passing Math\")\n",
    "i = (\"% Passing Reading/Math\")\n",
    "j = (\"Per Student Budget\")\n",
    "k = (\"School type\")\n",
    "l = (\"School Names\")\n",
    "m = (\"Total School Budget\")"
   ]
  },
  {
   "cell_type": "code",
   "execution_count": 4,
   "metadata": {},
   "outputs": [],
   "source": [
    "sc = school_df.school_name.count()\n",
    "st = school_data_complete.student_name.count()\n",
    "bu = school_df[\"budget\"].sum()\n",
    "rd_sc = school_data_complete.reading_score.mean()\n",
    "mt_sc = school_data_complete.math_score.mean()\n"
   ]
  },
  {
   "cell_type": "code",
   "execution_count": 5,
   "metadata": {},
   "outputs": [],
   "source": [
    "#passing reading\n",
    "\n",
    "pass_grades_reading = school_data_complete.loc[school_data_complete[\"reading_score\"] >= 70] \n",
    "pass_reading_percentage = (pass_grades_reading.reading_score.count() / student_df.student_name.count())*100\n"
   ]
  },
  {
   "cell_type": "code",
   "execution_count": 6,
   "metadata": {},
   "outputs": [],
   "source": [
    "#passing math\n",
    "\n",
    "pass_grades_math = school_data_complete.loc[school_data_complete[\"math_score\"] >= 70]\n",
    "pass_math_percentage = (pass_grades_math.math_score.count() / student_df.student_name.count())*100\n"
   ]
  },
  {
   "cell_type": "code",
   "execution_count": 7,
   "metadata": {},
   "outputs": [],
   "source": [
    "#pasing reading and math\n",
    "\n",
    "combo_reading_math_passing_grade = pass_grades_math.loc[pass_grades_math[\"reading_score\"] >= 70]\n",
    "combo_reading_math_percent = (combo_reading_math_passing_grade.reading_score.count() / student_df.student_name.count())*100\n"
   ]
  },
  {
   "cell_type": "code",
   "execution_count": 8,
   "metadata": {},
   "outputs": [],
   "source": [
    "rd_pass = pass_reading_percentage\n",
    "mt_pass = pass_math_percentage\n",
    "cmb_pass = combo_reading_math_percent"
   ]
  },
  {
   "cell_type": "code",
   "execution_count": 9,
   "metadata": {
    "scrolled": true
   },
   "outputs": [
    {
     "data": {
      "text/html": [
       "<style  type=\"text/css\" >\n",
       "</style><table id=\"T_8f1194d8_59ac_11eb_b3a0_983b8fac92e7\" ><thead>    <tr>        <th class=\"blank level0\" ></th>        <th class=\"col_heading level0 col0\" >total schools</th>        <th class=\"col_heading level0 col1\" >total students</th>        <th class=\"col_heading level0 col2\" >total budget</th>        <th class=\"col_heading level0 col3\" >average reading score</th>        <th class=\"col_heading level0 col4\" >average math score</th>        <th class=\"col_heading level0 col5\" >% Passing Math</th>        <th class=\"col_heading level0 col6\" >% Passing Reading</th>        <th class=\"col_heading level0 col7\" >% Passing Reading/Math</th>    </tr></thead><tbody>\n",
       "                <tr>\n",
       "                        <th id=\"T_8f1194d8_59ac_11eb_b3a0_983b8fac92e7level0_row0\" class=\"row_heading level0 row0\" >0</th>\n",
       "                        <td id=\"T_8f1194d8_59ac_11eb_b3a0_983b8fac92e7row0_col0\" class=\"data row0 col0\" >15</td>\n",
       "                        <td id=\"T_8f1194d8_59ac_11eb_b3a0_983b8fac92e7row0_col1\" class=\"data row0 col1\" >39170</td>\n",
       "                        <td id=\"T_8f1194d8_59ac_11eb_b3a0_983b8fac92e7row0_col2\" class=\"data row0 col2\" >$24,649,428.00</td>\n",
       "                        <td id=\"T_8f1194d8_59ac_11eb_b3a0_983b8fac92e7row0_col3\" class=\"data row0 col3\" >81.88</td>\n",
       "                        <td id=\"T_8f1194d8_59ac_11eb_b3a0_983b8fac92e7row0_col4\" class=\"data row0 col4\" >78.99</td>\n",
       "                        <td id=\"T_8f1194d8_59ac_11eb_b3a0_983b8fac92e7row0_col5\" class=\"data row0 col5\" >74.98%</td>\n",
       "                        <td id=\"T_8f1194d8_59ac_11eb_b3a0_983b8fac92e7row0_col6\" class=\"data row0 col6\" >85.81%</td>\n",
       "                        <td id=\"T_8f1194d8_59ac_11eb_b3a0_983b8fac92e7row0_col7\" class=\"data row0 col7\" >65.17%</td>\n",
       "            </tr>\n",
       "    </tbody></table>"
      ],
      "text/plain": [
       "<pandas.io.formats.style.Styler at 0x22953922970>"
      ]
     },
     "execution_count": 9,
     "metadata": {},
     "output_type": "execute_result"
    }
   ],
   "source": [
    "#format data for summary table\n",
    "#data = [{'a': 1, 'b': 2},{'a': 5, 'b': 10, 'c': 20}]\n",
    "data = [{a : sc, b : st, c: bu, d: rd_sc, e: mt_sc,h: mt_pass, g: rd_pass, i: cmb_pass}]\n",
    "df = pd.DataFrame(data)\n",
    "df[\"total budget\"] = df[\"total budget\"].map(\"${:,.2f}\".format)\n",
    "df[\"average math score\"] = df[\"average math score\"].map(\"{:.2f}\".format)\n",
    "df[\"average reading score\"] = df[\"average reading score\"].map(\"{:.2f}\".format)\n",
    "df['% Passing Math'] = df['% Passing Math'].map('{:.2f}%'.format)\n",
    "df['% Passing Reading'] = df['% Passing Reading'].map('{:.2f}%'.format)\n",
    "df['% Passing Reading/Math'] = df['% Passing Reading/Math'].map('{:.2f}%'.format)\n",
    "\n",
    "#Format the datatable\n",
    "df.style"
   ]
  },
  {
   "cell_type": "markdown",
   "metadata": {},
   "source": [
    "## School Summary"
   ]
  },
  {
   "cell_type": "markdown",
   "metadata": {},
   "source": [
    "* Create an overview table that summarizes key metrics about each school, including:\n",
    "  * School Name\n",
    "  * School Type\n",
    "  * Total Students\n",
    "  * Total School Budget\n",
    "  * Per Student Budget\n",
    "  * Average Math Score\n",
    "  * Average Reading Score\n",
    "  * % Passing Math\n",
    "  * % Passing Reading\n",
    "  * % Overall Passing (The percentage of students that passed math **and** reading.)\n",
    "  \n",
    "* Create a dataframe to hold the above results"
   ]
  },
  {
   "cell_type": "code",
   "execution_count": 10,
   "metadata": {
    "scrolled": false
   },
   "outputs": [],
   "source": [
    "# applying groupby() function to \n",
    "#school_df = pd.read_csv(school_df)\n",
    "\n",
    "#Reference school_df---------------------------\n",
    "\n",
    "#create array of unique school names\n",
    "unique_school_names = school_df['school_name'].unique()\n",
    "\n",
    "#gives the length of unique school names to give us how many schools\n",
    "school_count = len(unique_school_names)\n",
    "\n",
    "#-------------------------------------------------\n",
    "school_names = school_df['school_name'].unique()\n",
    "\n",
    "#-------------------------------------------------\n",
    "school_type = school_df.set_index([\"school_name\"]).type\n",
    "\n",
    "#Reference both school_df and -------------------------------------------------\n",
    "budget = school_df.set_index([\"school_name\"]).budget\n",
    "budget_format = budget.map(\"${:,.2f}\".format)\n",
    "\n",
    "#Reference school_data_complete-------------------------------------------------\n",
    "school_total_students = school_data_complete.school_name.value_counts()\n",
    "\n",
    "#-------------------------------------------------\n",
    "per_stu_budget = budget / school_total_students\n",
    "per_stu_budget_format = per_stu_budget.map(\"${:.2f}\".format)\n",
    "#per_stu_budget_format"
   ]
  },
  {
   "cell_type": "code",
   "execution_count": 11,
   "metadata": {},
   "outputs": [],
   "source": [
    "\n",
    "#---Reference school_data_complete----------------------------------------------\n",
    "school_summary = school_data_complete.groupby('school_name')\n",
    " \n",
    "#----------------------------------------------------\n",
    "avg_reading = list(school_summary.reading_score.mean().map(\"{:.2f}\".format))\n",
    "\n",
    "#-----------------------------------------------------\n",
    "avg_math = list(school_summary.math_score.mean().map(\"{:.2f}\".format))\n",
    "\n",
    "# % passing scores\n",
    "pass_math = school_data_complete[(school_data_complete['math_score'] >= 70)] \n",
    "\n",
    "pass_read = school_data_complete[school_data_complete['reading_score'] >= 70]\n",
    "\n",
    "pass_overall = school_data_complete[(school_data_complete['reading_score'] >= 70) & (school_data_complete['math_score'] >= 70)]\n",
    "\n",
    "#avg_math"
   ]
  },
  {
   "cell_type": "code",
   "execution_count": 12,
   "metadata": {},
   "outputs": [],
   "source": [
    "math_prct = pass_math.groupby(['school_name']).count()['Student ID']/school_total_students*100\n",
    "math_prct_format = math_prct.map('{:.2f}%'.format)\n",
    "\n",
    "reading_prct = pass_read.groupby(['school_name']).count()['Student ID']/school_total_students*100\n",
    "reading_prct_format = reading_prct.map('{:.2f}%'.format)\n",
    "\n",
    "overall_prct = pass_overall.groupby(['school_name']).count()['Student ID']/school_total_students*100\n",
    "overall_prct_format = overall_prct.map('{:.2f}%'.format)\n",
    "\n",
    "\n",
    "#reading_prct_format"
   ]
  },
  {
   "cell_type": "code",
   "execution_count": 13,
   "metadata": {
    "scrolled": true
   },
   "outputs": [
    {
     "data": {
      "text/html": [
       "<div>\n",
       "<style scoped>\n",
       "    .dataframe tbody tr th:only-of-type {\n",
       "        vertical-align: middle;\n",
       "    }\n",
       "\n",
       "    .dataframe tbody tr th {\n",
       "        vertical-align: top;\n",
       "    }\n",
       "\n",
       "    .dataframe thead th {\n",
       "        text-align: right;\n",
       "    }\n",
       "</style>\n",
       "<table border=\"1\" class=\"dataframe\">\n",
       "  <thead>\n",
       "    <tr style=\"text-align: right;\">\n",
       "      <th></th>\n",
       "      <th>School type</th>\n",
       "      <th>total students</th>\n",
       "      <th>Total School Budget</th>\n",
       "      <th>Per Student Budget</th>\n",
       "      <th>Average Math Score</th>\n",
       "      <th>Average Reading Score</th>\n",
       "      <th>% Passing Math</th>\n",
       "      <th>% Passing Reading</th>\n",
       "      <th>% Passing Reading/Math</th>\n",
       "    </tr>\n",
       "  </thead>\n",
       "  <tbody>\n",
       "    <tr>\n",
       "      <th>Bailey High School</th>\n",
       "      <td>District</td>\n",
       "      <td>4976</td>\n",
       "      <td>$3,124,928.00</td>\n",
       "      <td>$628.00</td>\n",
       "      <td>77.05</td>\n",
       "      <td>81.03</td>\n",
       "      <td>66.68%</td>\n",
       "      <td>81.93%</td>\n",
       "      <td>54.64%</td>\n",
       "    </tr>\n",
       "    <tr>\n",
       "      <th>Cabrera High School</th>\n",
       "      <td>Charter</td>\n",
       "      <td>1858</td>\n",
       "      <td>$1,081,356.00</td>\n",
       "      <td>$582.00</td>\n",
       "      <td>83.06</td>\n",
       "      <td>83.98</td>\n",
       "      <td>94.13%</td>\n",
       "      <td>97.04%</td>\n",
       "      <td>91.33%</td>\n",
       "    </tr>\n",
       "    <tr>\n",
       "      <th>Figueroa High School</th>\n",
       "      <td>District</td>\n",
       "      <td>2949</td>\n",
       "      <td>$1,884,411.00</td>\n",
       "      <td>$639.00</td>\n",
       "      <td>76.71</td>\n",
       "      <td>81.16</td>\n",
       "      <td>65.99%</td>\n",
       "      <td>80.74%</td>\n",
       "      <td>53.20%</td>\n",
       "    </tr>\n",
       "    <tr>\n",
       "      <th>Ford High School</th>\n",
       "      <td>District</td>\n",
       "      <td>2739</td>\n",
       "      <td>$1,763,916.00</td>\n",
       "      <td>$644.00</td>\n",
       "      <td>77.10</td>\n",
       "      <td>80.75</td>\n",
       "      <td>68.31%</td>\n",
       "      <td>79.30%</td>\n",
       "      <td>54.29%</td>\n",
       "    </tr>\n",
       "    <tr>\n",
       "      <th>Griffin High School</th>\n",
       "      <td>Charter</td>\n",
       "      <td>1468</td>\n",
       "      <td>$917,500.00</td>\n",
       "      <td>$625.00</td>\n",
       "      <td>83.35</td>\n",
       "      <td>83.82</td>\n",
       "      <td>93.39%</td>\n",
       "      <td>97.14%</td>\n",
       "      <td>90.60%</td>\n",
       "    </tr>\n",
       "    <tr>\n",
       "      <th>Hernandez High School</th>\n",
       "      <td>District</td>\n",
       "      <td>4635</td>\n",
       "      <td>$3,022,020.00</td>\n",
       "      <td>$652.00</td>\n",
       "      <td>77.29</td>\n",
       "      <td>80.93</td>\n",
       "      <td>66.75%</td>\n",
       "      <td>80.86%</td>\n",
       "      <td>53.53%</td>\n",
       "    </tr>\n",
       "    <tr>\n",
       "      <th>Holden High School</th>\n",
       "      <td>Charter</td>\n",
       "      <td>427</td>\n",
       "      <td>$248,087.00</td>\n",
       "      <td>$581.00</td>\n",
       "      <td>83.80</td>\n",
       "      <td>83.81</td>\n",
       "      <td>92.51%</td>\n",
       "      <td>96.25%</td>\n",
       "      <td>89.23%</td>\n",
       "    </tr>\n",
       "    <tr>\n",
       "      <th>Huang High School</th>\n",
       "      <td>District</td>\n",
       "      <td>2917</td>\n",
       "      <td>$1,910,635.00</td>\n",
       "      <td>$655.00</td>\n",
       "      <td>76.63</td>\n",
       "      <td>81.18</td>\n",
       "      <td>65.68%</td>\n",
       "      <td>81.32%</td>\n",
       "      <td>53.51%</td>\n",
       "    </tr>\n",
       "    <tr>\n",
       "      <th>Johnson High School</th>\n",
       "      <td>District</td>\n",
       "      <td>4761</td>\n",
       "      <td>$3,094,650.00</td>\n",
       "      <td>$650.00</td>\n",
       "      <td>77.07</td>\n",
       "      <td>80.97</td>\n",
       "      <td>66.06%</td>\n",
       "      <td>81.22%</td>\n",
       "      <td>53.54%</td>\n",
       "    </tr>\n",
       "    <tr>\n",
       "      <th>Pena High School</th>\n",
       "      <td>Charter</td>\n",
       "      <td>962</td>\n",
       "      <td>$585,858.00</td>\n",
       "      <td>$609.00</td>\n",
       "      <td>83.84</td>\n",
       "      <td>84.04</td>\n",
       "      <td>94.59%</td>\n",
       "      <td>95.95%</td>\n",
       "      <td>90.54%</td>\n",
       "    </tr>\n",
       "    <tr>\n",
       "      <th>Rodriguez High School</th>\n",
       "      <td>District</td>\n",
       "      <td>3999</td>\n",
       "      <td>$2,547,363.00</td>\n",
       "      <td>$637.00</td>\n",
       "      <td>76.84</td>\n",
       "      <td>80.74</td>\n",
       "      <td>66.37%</td>\n",
       "      <td>80.22%</td>\n",
       "      <td>52.99%</td>\n",
       "    </tr>\n",
       "    <tr>\n",
       "      <th>Shelton High School</th>\n",
       "      <td>Charter</td>\n",
       "      <td>1761</td>\n",
       "      <td>$1,056,600.00</td>\n",
       "      <td>$600.00</td>\n",
       "      <td>83.36</td>\n",
       "      <td>83.73</td>\n",
       "      <td>93.87%</td>\n",
       "      <td>95.85%</td>\n",
       "      <td>89.89%</td>\n",
       "    </tr>\n",
       "    <tr>\n",
       "      <th>Thomas High School</th>\n",
       "      <td>Charter</td>\n",
       "      <td>1635</td>\n",
       "      <td>$1,043,130.00</td>\n",
       "      <td>$638.00</td>\n",
       "      <td>83.42</td>\n",
       "      <td>83.85</td>\n",
       "      <td>93.27%</td>\n",
       "      <td>97.31%</td>\n",
       "      <td>90.95%</td>\n",
       "    </tr>\n",
       "    <tr>\n",
       "      <th>Wilson High School</th>\n",
       "      <td>Charter</td>\n",
       "      <td>2283</td>\n",
       "      <td>$1,319,574.00</td>\n",
       "      <td>$578.00</td>\n",
       "      <td>83.27</td>\n",
       "      <td>83.99</td>\n",
       "      <td>93.87%</td>\n",
       "      <td>96.54%</td>\n",
       "      <td>90.58%</td>\n",
       "    </tr>\n",
       "    <tr>\n",
       "      <th>Wright High School</th>\n",
       "      <td>Charter</td>\n",
       "      <td>1800</td>\n",
       "      <td>$1,049,400.00</td>\n",
       "      <td>$583.00</td>\n",
       "      <td>83.68</td>\n",
       "      <td>83.95</td>\n",
       "      <td>93.33%</td>\n",
       "      <td>96.61%</td>\n",
       "      <td>90.33%</td>\n",
       "    </tr>\n",
       "  </tbody>\n",
       "</table>\n",
       "</div>"
      ],
      "text/plain": [
       "                      School type  total students Total School Budget  \\\n",
       "Bailey High School       District            4976       $3,124,928.00   \n",
       "Cabrera High School       Charter            1858       $1,081,356.00   \n",
       "Figueroa High School     District            2949       $1,884,411.00   \n",
       "Ford High School         District            2739       $1,763,916.00   \n",
       "Griffin High School       Charter            1468         $917,500.00   \n",
       "Hernandez High School    District            4635       $3,022,020.00   \n",
       "Holden High School        Charter             427         $248,087.00   \n",
       "Huang High School        District            2917       $1,910,635.00   \n",
       "Johnson High School      District            4761       $3,094,650.00   \n",
       "Pena High School          Charter             962         $585,858.00   \n",
       "Rodriguez High School    District            3999       $2,547,363.00   \n",
       "Shelton High School       Charter            1761       $1,056,600.00   \n",
       "Thomas High School        Charter            1635       $1,043,130.00   \n",
       "Wilson High School        Charter            2283       $1,319,574.00   \n",
       "Wright High School        Charter            1800       $1,049,400.00   \n",
       "\n",
       "                      Per Student Budget Average Math Score  \\\n",
       "Bailey High School               $628.00              77.05   \n",
       "Cabrera High School              $582.00              83.06   \n",
       "Figueroa High School             $639.00              76.71   \n",
       "Ford High School                 $644.00              77.10   \n",
       "Griffin High School              $625.00              83.35   \n",
       "Hernandez High School            $652.00              77.29   \n",
       "Holden High School               $581.00              83.80   \n",
       "Huang High School                $655.00              76.63   \n",
       "Johnson High School              $650.00              77.07   \n",
       "Pena High School                 $609.00              83.84   \n",
       "Rodriguez High School            $637.00              76.84   \n",
       "Shelton High School              $600.00              83.36   \n",
       "Thomas High School               $638.00              83.42   \n",
       "Wilson High School               $578.00              83.27   \n",
       "Wright High School               $583.00              83.68   \n",
       "\n",
       "                      Average Reading Score % Passing Math % Passing Reading  \\\n",
       "Bailey High School                    81.03         66.68%            81.93%   \n",
       "Cabrera High School                   83.98         94.13%            97.04%   \n",
       "Figueroa High School                  81.16         65.99%            80.74%   \n",
       "Ford High School                      80.75         68.31%            79.30%   \n",
       "Griffin High School                   83.82         93.39%            97.14%   \n",
       "Hernandez High School                 80.93         66.75%            80.86%   \n",
       "Holden High School                    83.81         92.51%            96.25%   \n",
       "Huang High School                     81.18         65.68%            81.32%   \n",
       "Johnson High School                   80.97         66.06%            81.22%   \n",
       "Pena High School                      84.04         94.59%            95.95%   \n",
       "Rodriguez High School                 80.74         66.37%            80.22%   \n",
       "Shelton High School                   83.73         93.87%            95.85%   \n",
       "Thomas High School                    83.85         93.27%            97.31%   \n",
       "Wilson High School                    83.99         93.87%            96.54%   \n",
       "Wright High School                    83.95         93.33%            96.61%   \n",
       "\n",
       "                      % Passing Reading/Math  \n",
       "Bailey High School                    54.64%  \n",
       "Cabrera High School                   91.33%  \n",
       "Figueroa High School                  53.20%  \n",
       "Ford High School                      54.29%  \n",
       "Griffin High School                   90.60%  \n",
       "Hernandez High School                 53.53%  \n",
       "Holden High School                    89.23%  \n",
       "Huang High School                     53.51%  \n",
       "Johnson High School                   53.54%  \n",
       "Pena High School                      90.54%  \n",
       "Rodriguez High School                 52.99%  \n",
       "Shelton High School                   89.89%  \n",
       "Thomas High School                    90.95%  \n",
       "Wilson High School                    90.58%  \n",
       "Wright High School                    90.33%  "
      ]
     },
     "execution_count": 13,
     "metadata": {},
     "output_type": "execute_result"
    }
   ],
   "source": [
    "school_summary_df =pd.DataFrame({\"School type\":school_type,\"total students\":school_total_students, \"Total School Budget\":budget_format,\n",
    "\"Per Student Budget\":per_stu_budget_format, \"Average Math Score\":avg_math, \"Average Reading Score\":avg_reading, \"% Passing Math\":math_prct_format, \"% Passing Reading\":reading_prct_format, \"% Passing Reading/Math\":overall_prct_format})\n",
    "\n",
    "\n",
    "school_summary_df"
   ]
  },
  {
   "cell_type": "markdown",
   "metadata": {},
   "source": [
    "## Top Performing Schools (By % Overall Passing)"
   ]
  },
  {
   "cell_type": "markdown",
   "metadata": {},
   "source": [
    "* Sort and display the top five performing schools by % overall passing."
   ]
  },
  {
   "cell_type": "code",
   "execution_count": 14,
   "metadata": {
    "scrolled": false
   },
   "outputs": [
    {
     "data": {
      "text/html": [
       "<div>\n",
       "<style scoped>\n",
       "    .dataframe tbody tr th:only-of-type {\n",
       "        vertical-align: middle;\n",
       "    }\n",
       "\n",
       "    .dataframe tbody tr th {\n",
       "        vertical-align: top;\n",
       "    }\n",
       "\n",
       "    .dataframe thead th {\n",
       "        text-align: right;\n",
       "    }\n",
       "</style>\n",
       "<table border=\"1\" class=\"dataframe\">\n",
       "  <thead>\n",
       "    <tr style=\"text-align: right;\">\n",
       "      <th></th>\n",
       "      <th>School type</th>\n",
       "      <th>total students</th>\n",
       "      <th>Total School Budget</th>\n",
       "      <th>Per Student Budget</th>\n",
       "      <th>Average Math Score</th>\n",
       "      <th>Average Reading Score</th>\n",
       "      <th>% Passing Math</th>\n",
       "      <th>% Passing Reading</th>\n",
       "      <th>% Passing Reading/Math</th>\n",
       "    </tr>\n",
       "  </thead>\n",
       "  <tbody>\n",
       "    <tr>\n",
       "      <th>Cabrera High School</th>\n",
       "      <td>Charter</td>\n",
       "      <td>1858</td>\n",
       "      <td>$1,081,356.00</td>\n",
       "      <td>$582.00</td>\n",
       "      <td>83.06</td>\n",
       "      <td>83.98</td>\n",
       "      <td>94.13%</td>\n",
       "      <td>97.04%</td>\n",
       "      <td>91.33%</td>\n",
       "    </tr>\n",
       "    <tr>\n",
       "      <th>Thomas High School</th>\n",
       "      <td>Charter</td>\n",
       "      <td>1635</td>\n",
       "      <td>$1,043,130.00</td>\n",
       "      <td>$638.00</td>\n",
       "      <td>83.42</td>\n",
       "      <td>83.85</td>\n",
       "      <td>93.27%</td>\n",
       "      <td>97.31%</td>\n",
       "      <td>90.95%</td>\n",
       "    </tr>\n",
       "    <tr>\n",
       "      <th>Griffin High School</th>\n",
       "      <td>Charter</td>\n",
       "      <td>1468</td>\n",
       "      <td>$917,500.00</td>\n",
       "      <td>$625.00</td>\n",
       "      <td>83.35</td>\n",
       "      <td>83.82</td>\n",
       "      <td>93.39%</td>\n",
       "      <td>97.14%</td>\n",
       "      <td>90.60%</td>\n",
       "    </tr>\n",
       "    <tr>\n",
       "      <th>Wilson High School</th>\n",
       "      <td>Charter</td>\n",
       "      <td>2283</td>\n",
       "      <td>$1,319,574.00</td>\n",
       "      <td>$578.00</td>\n",
       "      <td>83.27</td>\n",
       "      <td>83.99</td>\n",
       "      <td>93.87%</td>\n",
       "      <td>96.54%</td>\n",
       "      <td>90.58%</td>\n",
       "    </tr>\n",
       "    <tr>\n",
       "      <th>Pena High School</th>\n",
       "      <td>Charter</td>\n",
       "      <td>962</td>\n",
       "      <td>$585,858.00</td>\n",
       "      <td>$609.00</td>\n",
       "      <td>83.84</td>\n",
       "      <td>84.04</td>\n",
       "      <td>94.59%</td>\n",
       "      <td>95.95%</td>\n",
       "      <td>90.54%</td>\n",
       "    </tr>\n",
       "  </tbody>\n",
       "</table>\n",
       "</div>"
      ],
      "text/plain": [
       "                    School type  total students Total School Budget  \\\n",
       "Cabrera High School     Charter            1858       $1,081,356.00   \n",
       "Thomas High School      Charter            1635       $1,043,130.00   \n",
       "Griffin High School     Charter            1468         $917,500.00   \n",
       "Wilson High School      Charter            2283       $1,319,574.00   \n",
       "Pena High School        Charter             962         $585,858.00   \n",
       "\n",
       "                    Per Student Budget Average Math Score  \\\n",
       "Cabrera High School            $582.00              83.06   \n",
       "Thomas High School             $638.00              83.42   \n",
       "Griffin High School            $625.00              83.35   \n",
       "Wilson High School             $578.00              83.27   \n",
       "Pena High School               $609.00              83.84   \n",
       "\n",
       "                    Average Reading Score % Passing Math % Passing Reading  \\\n",
       "Cabrera High School                 83.98         94.13%            97.04%   \n",
       "Thomas High School                  83.85         93.27%            97.31%   \n",
       "Griffin High School                 83.82         93.39%            97.14%   \n",
       "Wilson High School                  83.99         93.87%            96.54%   \n",
       "Pena High School                    84.04         94.59%            95.95%   \n",
       "\n",
       "                    % Passing Reading/Math  \n",
       "Cabrera High School                 91.33%  \n",
       "Thomas High School                  90.95%  \n",
       "Griffin High School                 90.60%  \n",
       "Wilson High School                  90.58%  \n",
       "Pena High School                    90.54%  "
      ]
     },
     "execution_count": 14,
     "metadata": {},
     "output_type": "execute_result"
    }
   ],
   "source": [
    "school_summary_df.sort_values(\"% Passing Reading/Math\", ascending=False).head()\n"
   ]
  },
  {
   "cell_type": "markdown",
   "metadata": {},
   "source": [
    "## Bottom Performing Schools (By % Overall Passing)"
   ]
  },
  {
   "cell_type": "markdown",
   "metadata": {},
   "source": [
    "* Sort and display the five worst-performing schools by % overall passing."
   ]
  },
  {
   "cell_type": "code",
   "execution_count": 15,
   "metadata": {},
   "outputs": [
    {
     "data": {
      "text/html": [
       "<div>\n",
       "<style scoped>\n",
       "    .dataframe tbody tr th:only-of-type {\n",
       "        vertical-align: middle;\n",
       "    }\n",
       "\n",
       "    .dataframe tbody tr th {\n",
       "        vertical-align: top;\n",
       "    }\n",
       "\n",
       "    .dataframe thead th {\n",
       "        text-align: right;\n",
       "    }\n",
       "</style>\n",
       "<table border=\"1\" class=\"dataframe\">\n",
       "  <thead>\n",
       "    <tr style=\"text-align: right;\">\n",
       "      <th></th>\n",
       "      <th>School type</th>\n",
       "      <th>total students</th>\n",
       "      <th>Total School Budget</th>\n",
       "      <th>Per Student Budget</th>\n",
       "      <th>Average Math Score</th>\n",
       "      <th>Average Reading Score</th>\n",
       "      <th>% Passing Math</th>\n",
       "      <th>% Passing Reading</th>\n",
       "      <th>% Passing Reading/Math</th>\n",
       "    </tr>\n",
       "  </thead>\n",
       "  <tbody>\n",
       "    <tr>\n",
       "      <th>Rodriguez High School</th>\n",
       "      <td>District</td>\n",
       "      <td>3999</td>\n",
       "      <td>$2,547,363.00</td>\n",
       "      <td>$637.00</td>\n",
       "      <td>76.84</td>\n",
       "      <td>80.74</td>\n",
       "      <td>66.37%</td>\n",
       "      <td>80.22%</td>\n",
       "      <td>52.99%</td>\n",
       "    </tr>\n",
       "    <tr>\n",
       "      <th>Figueroa High School</th>\n",
       "      <td>District</td>\n",
       "      <td>2949</td>\n",
       "      <td>$1,884,411.00</td>\n",
       "      <td>$639.00</td>\n",
       "      <td>76.71</td>\n",
       "      <td>81.16</td>\n",
       "      <td>65.99%</td>\n",
       "      <td>80.74%</td>\n",
       "      <td>53.20%</td>\n",
       "    </tr>\n",
       "    <tr>\n",
       "      <th>Huang High School</th>\n",
       "      <td>District</td>\n",
       "      <td>2917</td>\n",
       "      <td>$1,910,635.00</td>\n",
       "      <td>$655.00</td>\n",
       "      <td>76.63</td>\n",
       "      <td>81.18</td>\n",
       "      <td>65.68%</td>\n",
       "      <td>81.32%</td>\n",
       "      <td>53.51%</td>\n",
       "    </tr>\n",
       "    <tr>\n",
       "      <th>Hernandez High School</th>\n",
       "      <td>District</td>\n",
       "      <td>4635</td>\n",
       "      <td>$3,022,020.00</td>\n",
       "      <td>$652.00</td>\n",
       "      <td>77.29</td>\n",
       "      <td>80.93</td>\n",
       "      <td>66.75%</td>\n",
       "      <td>80.86%</td>\n",
       "      <td>53.53%</td>\n",
       "    </tr>\n",
       "    <tr>\n",
       "      <th>Johnson High School</th>\n",
       "      <td>District</td>\n",
       "      <td>4761</td>\n",
       "      <td>$3,094,650.00</td>\n",
       "      <td>$650.00</td>\n",
       "      <td>77.07</td>\n",
       "      <td>80.97</td>\n",
       "      <td>66.06%</td>\n",
       "      <td>81.22%</td>\n",
       "      <td>53.54%</td>\n",
       "    </tr>\n",
       "  </tbody>\n",
       "</table>\n",
       "</div>"
      ],
      "text/plain": [
       "                      School type  total students Total School Budget  \\\n",
       "Rodriguez High School    District            3999       $2,547,363.00   \n",
       "Figueroa High School     District            2949       $1,884,411.00   \n",
       "Huang High School        District            2917       $1,910,635.00   \n",
       "Hernandez High School    District            4635       $3,022,020.00   \n",
       "Johnson High School      District            4761       $3,094,650.00   \n",
       "\n",
       "                      Per Student Budget Average Math Score  \\\n",
       "Rodriguez High School            $637.00              76.84   \n",
       "Figueroa High School             $639.00              76.71   \n",
       "Huang High School                $655.00              76.63   \n",
       "Hernandez High School            $652.00              77.29   \n",
       "Johnson High School              $650.00              77.07   \n",
       "\n",
       "                      Average Reading Score % Passing Math % Passing Reading  \\\n",
       "Rodriguez High School                 80.74         66.37%            80.22%   \n",
       "Figueroa High School                  81.16         65.99%            80.74%   \n",
       "Huang High School                     81.18         65.68%            81.32%   \n",
       "Hernandez High School                 80.93         66.75%            80.86%   \n",
       "Johnson High School                   80.97         66.06%            81.22%   \n",
       "\n",
       "                      % Passing Reading/Math  \n",
       "Rodriguez High School                 52.99%  \n",
       "Figueroa High School                  53.20%  \n",
       "Huang High School                     53.51%  \n",
       "Hernandez High School                 53.53%  \n",
       "Johnson High School                   53.54%  "
      ]
     },
     "execution_count": 15,
     "metadata": {},
     "output_type": "execute_result"
    }
   ],
   "source": [
    "school_summary_df.sort_values(\"% Passing Reading/Math\", ascending=True).head()"
   ]
  },
  {
   "cell_type": "markdown",
   "metadata": {
    "collapsed": true
   },
   "source": [
    "## Math Scores by Grade"
   ]
  },
  {
   "cell_type": "markdown",
   "metadata": {},
   "source": [
    "* Create a table that lists the average Reading Score for students of each grade level (9th, 10th, 11th, 12th) at each school.\n",
    "\n",
    "  * Create a pandas series for each grade. Hint: use a conditional statement.\n",
    "  \n",
    "  * Group each series by school\n",
    "  \n",
    "  * Combine the series into a dataframe\n",
    "  \n",
    "  * Optional: give the displayed data cleaner formatting"
   ]
  },
  {
   "cell_type": "code",
   "execution_count": 16,
   "metadata": {},
   "outputs": [
    {
     "data": {
      "text/html": [
       "<style  type=\"text/css\" >\n",
       "</style><table id=\"T_8f33da2b_59ac_11eb_b477_983b8fac92e7\" ><thead>    <tr>        <th class=\"blank level0\" ></th>        <th class=\"col_heading level0 col0\" >9th</th>        <th class=\"col_heading level0 col1\" >10th</th>        <th class=\"col_heading level0 col2\" >11th</th>        <th class=\"col_heading level0 col3\" >12th</th>    </tr>    <tr>        <th class=\"index_name level0\" >School</th>        <th class=\"blank\" ></th>        <th class=\"blank\" ></th>        <th class=\"blank\" ></th>        <th class=\"blank\" ></th>    </tr></thead><tbody>\n",
       "                <tr>\n",
       "                        <th id=\"T_8f33da2b_59ac_11eb_b477_983b8fac92e7level0_row0\" class=\"row_heading level0 row0\" >Bailey High School</th>\n",
       "                        <td id=\"T_8f33da2b_59ac_11eb_b477_983b8fac92e7row0_col0\" class=\"data row0 col0\" >77.1</td>\n",
       "                        <td id=\"T_8f33da2b_59ac_11eb_b477_983b8fac92e7row0_col1\" class=\"data row0 col1\" >77.0</td>\n",
       "                        <td id=\"T_8f33da2b_59ac_11eb_b477_983b8fac92e7row0_col2\" class=\"data row0 col2\" >77.5</td>\n",
       "                        <td id=\"T_8f33da2b_59ac_11eb_b477_983b8fac92e7row0_col3\" class=\"data row0 col3\" >76.5</td>\n",
       "            </tr>\n",
       "            <tr>\n",
       "                        <th id=\"T_8f33da2b_59ac_11eb_b477_983b8fac92e7level0_row1\" class=\"row_heading level0 row1\" >Cabrera High School</th>\n",
       "                        <td id=\"T_8f33da2b_59ac_11eb_b477_983b8fac92e7row1_col0\" class=\"data row1 col0\" >83.1</td>\n",
       "                        <td id=\"T_8f33da2b_59ac_11eb_b477_983b8fac92e7row1_col1\" class=\"data row1 col1\" >83.2</td>\n",
       "                        <td id=\"T_8f33da2b_59ac_11eb_b477_983b8fac92e7row1_col2\" class=\"data row1 col2\" >82.8</td>\n",
       "                        <td id=\"T_8f33da2b_59ac_11eb_b477_983b8fac92e7row1_col3\" class=\"data row1 col3\" >83.3</td>\n",
       "            </tr>\n",
       "            <tr>\n",
       "                        <th id=\"T_8f33da2b_59ac_11eb_b477_983b8fac92e7level0_row2\" class=\"row_heading level0 row2\" >Figueroa High School</th>\n",
       "                        <td id=\"T_8f33da2b_59ac_11eb_b477_983b8fac92e7row2_col0\" class=\"data row2 col0\" >76.4</td>\n",
       "                        <td id=\"T_8f33da2b_59ac_11eb_b477_983b8fac92e7row2_col1\" class=\"data row2 col1\" >76.5</td>\n",
       "                        <td id=\"T_8f33da2b_59ac_11eb_b477_983b8fac92e7row2_col2\" class=\"data row2 col2\" >76.9</td>\n",
       "                        <td id=\"T_8f33da2b_59ac_11eb_b477_983b8fac92e7row2_col3\" class=\"data row2 col3\" >77.2</td>\n",
       "            </tr>\n",
       "            <tr>\n",
       "                        <th id=\"T_8f33da2b_59ac_11eb_b477_983b8fac92e7level0_row3\" class=\"row_heading level0 row3\" >Ford High School</th>\n",
       "                        <td id=\"T_8f33da2b_59ac_11eb_b477_983b8fac92e7row3_col0\" class=\"data row3 col0\" >77.4</td>\n",
       "                        <td id=\"T_8f33da2b_59ac_11eb_b477_983b8fac92e7row3_col1\" class=\"data row3 col1\" >77.7</td>\n",
       "                        <td id=\"T_8f33da2b_59ac_11eb_b477_983b8fac92e7row3_col2\" class=\"data row3 col2\" >76.9</td>\n",
       "                        <td id=\"T_8f33da2b_59ac_11eb_b477_983b8fac92e7row3_col3\" class=\"data row3 col3\" >76.2</td>\n",
       "            </tr>\n",
       "            <tr>\n",
       "                        <th id=\"T_8f33da2b_59ac_11eb_b477_983b8fac92e7level0_row4\" class=\"row_heading level0 row4\" >Griffin High School</th>\n",
       "                        <td id=\"T_8f33da2b_59ac_11eb_b477_983b8fac92e7row4_col0\" class=\"data row4 col0\" >82.0</td>\n",
       "                        <td id=\"T_8f33da2b_59ac_11eb_b477_983b8fac92e7row4_col1\" class=\"data row4 col1\" >84.2</td>\n",
       "                        <td id=\"T_8f33da2b_59ac_11eb_b477_983b8fac92e7row4_col2\" class=\"data row4 col2\" >83.8</td>\n",
       "                        <td id=\"T_8f33da2b_59ac_11eb_b477_983b8fac92e7row4_col3\" class=\"data row4 col3\" >83.4</td>\n",
       "            </tr>\n",
       "            <tr>\n",
       "                        <th id=\"T_8f33da2b_59ac_11eb_b477_983b8fac92e7level0_row5\" class=\"row_heading level0 row5\" >Hernandez High School</th>\n",
       "                        <td id=\"T_8f33da2b_59ac_11eb_b477_983b8fac92e7row5_col0\" class=\"data row5 col0\" >77.4</td>\n",
       "                        <td id=\"T_8f33da2b_59ac_11eb_b477_983b8fac92e7row5_col1\" class=\"data row5 col1\" >77.3</td>\n",
       "                        <td id=\"T_8f33da2b_59ac_11eb_b477_983b8fac92e7row5_col2\" class=\"data row5 col2\" >77.1</td>\n",
       "                        <td id=\"T_8f33da2b_59ac_11eb_b477_983b8fac92e7row5_col3\" class=\"data row5 col3\" >77.2</td>\n",
       "            </tr>\n",
       "            <tr>\n",
       "                        <th id=\"T_8f33da2b_59ac_11eb_b477_983b8fac92e7level0_row6\" class=\"row_heading level0 row6\" >Holden High School</th>\n",
       "                        <td id=\"T_8f33da2b_59ac_11eb_b477_983b8fac92e7row6_col0\" class=\"data row6 col0\" >83.8</td>\n",
       "                        <td id=\"T_8f33da2b_59ac_11eb_b477_983b8fac92e7row6_col1\" class=\"data row6 col1\" >83.4</td>\n",
       "                        <td id=\"T_8f33da2b_59ac_11eb_b477_983b8fac92e7row6_col2\" class=\"data row6 col2\" >85.0</td>\n",
       "                        <td id=\"T_8f33da2b_59ac_11eb_b477_983b8fac92e7row6_col3\" class=\"data row6 col3\" >82.9</td>\n",
       "            </tr>\n",
       "            <tr>\n",
       "                        <th id=\"T_8f33da2b_59ac_11eb_b477_983b8fac92e7level0_row7\" class=\"row_heading level0 row7\" >Huang High School</th>\n",
       "                        <td id=\"T_8f33da2b_59ac_11eb_b477_983b8fac92e7row7_col0\" class=\"data row7 col0\" >77.0</td>\n",
       "                        <td id=\"T_8f33da2b_59ac_11eb_b477_983b8fac92e7row7_col1\" class=\"data row7 col1\" >75.9</td>\n",
       "                        <td id=\"T_8f33da2b_59ac_11eb_b477_983b8fac92e7row7_col2\" class=\"data row7 col2\" >76.4</td>\n",
       "                        <td id=\"T_8f33da2b_59ac_11eb_b477_983b8fac92e7row7_col3\" class=\"data row7 col3\" >77.2</td>\n",
       "            </tr>\n",
       "            <tr>\n",
       "                        <th id=\"T_8f33da2b_59ac_11eb_b477_983b8fac92e7level0_row8\" class=\"row_heading level0 row8\" >Johnson High School</th>\n",
       "                        <td id=\"T_8f33da2b_59ac_11eb_b477_983b8fac92e7row8_col0\" class=\"data row8 col0\" >77.2</td>\n",
       "                        <td id=\"T_8f33da2b_59ac_11eb_b477_983b8fac92e7row8_col1\" class=\"data row8 col1\" >76.7</td>\n",
       "                        <td id=\"T_8f33da2b_59ac_11eb_b477_983b8fac92e7row8_col2\" class=\"data row8 col2\" >77.5</td>\n",
       "                        <td id=\"T_8f33da2b_59ac_11eb_b477_983b8fac92e7row8_col3\" class=\"data row8 col3\" >76.9</td>\n",
       "            </tr>\n",
       "            <tr>\n",
       "                        <th id=\"T_8f33da2b_59ac_11eb_b477_983b8fac92e7level0_row9\" class=\"row_heading level0 row9\" >Pena High School</th>\n",
       "                        <td id=\"T_8f33da2b_59ac_11eb_b477_983b8fac92e7row9_col0\" class=\"data row9 col0\" >83.6</td>\n",
       "                        <td id=\"T_8f33da2b_59ac_11eb_b477_983b8fac92e7row9_col1\" class=\"data row9 col1\" >83.4</td>\n",
       "                        <td id=\"T_8f33da2b_59ac_11eb_b477_983b8fac92e7row9_col2\" class=\"data row9 col2\" >84.3</td>\n",
       "                        <td id=\"T_8f33da2b_59ac_11eb_b477_983b8fac92e7row9_col3\" class=\"data row9 col3\" >84.1</td>\n",
       "            </tr>\n",
       "            <tr>\n",
       "                        <th id=\"T_8f33da2b_59ac_11eb_b477_983b8fac92e7level0_row10\" class=\"row_heading level0 row10\" >Rodriguez High School</th>\n",
       "                        <td id=\"T_8f33da2b_59ac_11eb_b477_983b8fac92e7row10_col0\" class=\"data row10 col0\" >76.9</td>\n",
       "                        <td id=\"T_8f33da2b_59ac_11eb_b477_983b8fac92e7row10_col1\" class=\"data row10 col1\" >76.6</td>\n",
       "                        <td id=\"T_8f33da2b_59ac_11eb_b477_983b8fac92e7row10_col2\" class=\"data row10 col2\" >76.4</td>\n",
       "                        <td id=\"T_8f33da2b_59ac_11eb_b477_983b8fac92e7row10_col3\" class=\"data row10 col3\" >77.7</td>\n",
       "            </tr>\n",
       "            <tr>\n",
       "                        <th id=\"T_8f33da2b_59ac_11eb_b477_983b8fac92e7level0_row11\" class=\"row_heading level0 row11\" >Shelton High School</th>\n",
       "                        <td id=\"T_8f33da2b_59ac_11eb_b477_983b8fac92e7row11_col0\" class=\"data row11 col0\" >83.4</td>\n",
       "                        <td id=\"T_8f33da2b_59ac_11eb_b477_983b8fac92e7row11_col1\" class=\"data row11 col1\" >82.9</td>\n",
       "                        <td id=\"T_8f33da2b_59ac_11eb_b477_983b8fac92e7row11_col2\" class=\"data row11 col2\" >83.4</td>\n",
       "                        <td id=\"T_8f33da2b_59ac_11eb_b477_983b8fac92e7row11_col3\" class=\"data row11 col3\" >83.8</td>\n",
       "            </tr>\n",
       "            <tr>\n",
       "                        <th id=\"T_8f33da2b_59ac_11eb_b477_983b8fac92e7level0_row12\" class=\"row_heading level0 row12\" >Thomas High School</th>\n",
       "                        <td id=\"T_8f33da2b_59ac_11eb_b477_983b8fac92e7row12_col0\" class=\"data row12 col0\" >83.6</td>\n",
       "                        <td id=\"T_8f33da2b_59ac_11eb_b477_983b8fac92e7row12_col1\" class=\"data row12 col1\" >83.1</td>\n",
       "                        <td id=\"T_8f33da2b_59ac_11eb_b477_983b8fac92e7row12_col2\" class=\"data row12 col2\" >83.5</td>\n",
       "                        <td id=\"T_8f33da2b_59ac_11eb_b477_983b8fac92e7row12_col3\" class=\"data row12 col3\" >83.5</td>\n",
       "            </tr>\n",
       "            <tr>\n",
       "                        <th id=\"T_8f33da2b_59ac_11eb_b477_983b8fac92e7level0_row13\" class=\"row_heading level0 row13\" >Wilson High School</th>\n",
       "                        <td id=\"T_8f33da2b_59ac_11eb_b477_983b8fac92e7row13_col0\" class=\"data row13 col0\" >83.1</td>\n",
       "                        <td id=\"T_8f33da2b_59ac_11eb_b477_983b8fac92e7row13_col1\" class=\"data row13 col1\" >83.7</td>\n",
       "                        <td id=\"T_8f33da2b_59ac_11eb_b477_983b8fac92e7row13_col2\" class=\"data row13 col2\" >83.2</td>\n",
       "                        <td id=\"T_8f33da2b_59ac_11eb_b477_983b8fac92e7row13_col3\" class=\"data row13 col3\" >83.0</td>\n",
       "            </tr>\n",
       "            <tr>\n",
       "                        <th id=\"T_8f33da2b_59ac_11eb_b477_983b8fac92e7level0_row14\" class=\"row_heading level0 row14\" >Wright High School</th>\n",
       "                        <td id=\"T_8f33da2b_59ac_11eb_b477_983b8fac92e7row14_col0\" class=\"data row14 col0\" >83.3</td>\n",
       "                        <td id=\"T_8f33da2b_59ac_11eb_b477_983b8fac92e7row14_col1\" class=\"data row14 col1\" >84.0</td>\n",
       "                        <td id=\"T_8f33da2b_59ac_11eb_b477_983b8fac92e7row14_col2\" class=\"data row14 col2\" >83.8</td>\n",
       "                        <td id=\"T_8f33da2b_59ac_11eb_b477_983b8fac92e7row14_col3\" class=\"data row14 col3\" >83.6</td>\n",
       "            </tr>\n",
       "    </tbody></table>"
      ],
      "text/plain": [
       "<pandas.io.formats.style.Styler at 0x22958af1fa0>"
      ]
     },
     "execution_count": 16,
     "metadata": {},
     "output_type": "execute_result"
    }
   ],
   "source": [
    "#creates grade level average math scores for each school \n",
    "ninth_math = student_df.loc[student_df['grade'] == '9th'].groupby('school_name')[\"math_score\"].mean()\n",
    "tenth_math = student_df.loc[student_df['grade'] == '10th'].groupby('school_name')[\"math_score\"].mean()\n",
    "eleventh_math = student_df.loc[student_df['grade'] == '11th'].groupby('school_name')[\"math_score\"].mean()\n",
    "twelfth_math = student_df.loc[student_df['grade'] == '12th'].groupby('school_name')[\"math_score\"].mean()\n",
    "\n",
    "math_scores = pd.DataFrame({\n",
    "        \"9th\": ninth_math,\n",
    "        \"10th\": tenth_math,\n",
    "        \"11th\": eleventh_math,\n",
    "        \"12th\": twelfth_math\n",
    "})\n",
    "math_scores = math_scores[['9th', '10th', '11th', '12th']]\n",
    "math_scores.index.name = \"School\"\n",
    "\n",
    "#show and format\n",
    "math_scores.style.format({'9th': '{:.1f}', \n",
    "                          \"10th\": '{:.1f}', \n",
    "                          \"11th\": \"{:.1f}\", \n",
    "                          \"12th\": \"{:.1f}\"})"
   ]
  },
  {
   "cell_type": "markdown",
   "metadata": {},
   "source": [
    "## Reading Score by Grade "
   ]
  },
  {
   "cell_type": "markdown",
   "metadata": {},
   "source": [
    "* Perform the same operations as above for reading scores"
   ]
  },
  {
   "cell_type": "code",
   "execution_count": 17,
   "metadata": {},
   "outputs": [
    {
     "data": {
      "text/html": [
       "<style  type=\"text/css\" >\n",
       "</style><table id=\"T_8f3b0015_59ac_11eb_8c01_983b8fac92e7\" ><thead>    <tr>        <th class=\"blank level0\" ></th>        <th class=\"col_heading level0 col0\" >9th</th>        <th class=\"col_heading level0 col1\" >10th</th>        <th class=\"col_heading level0 col2\" >11th</th>        <th class=\"col_heading level0 col3\" >12th</th>    </tr>    <tr>        <th class=\"index_name level0\" >School</th>        <th class=\"blank\" ></th>        <th class=\"blank\" ></th>        <th class=\"blank\" ></th>        <th class=\"blank\" ></th>    </tr></thead><tbody>\n",
       "                <tr>\n",
       "                        <th id=\"T_8f3b0015_59ac_11eb_8c01_983b8fac92e7level0_row0\" class=\"row_heading level0 row0\" >Bailey High School</th>\n",
       "                        <td id=\"T_8f3b0015_59ac_11eb_8c01_983b8fac92e7row0_col0\" class=\"data row0 col0\" >81.3</td>\n",
       "                        <td id=\"T_8f3b0015_59ac_11eb_8c01_983b8fac92e7row0_col1\" class=\"data row0 col1\" >80.9</td>\n",
       "                        <td id=\"T_8f3b0015_59ac_11eb_8c01_983b8fac92e7row0_col2\" class=\"data row0 col2\" >80.9</td>\n",
       "                        <td id=\"T_8f3b0015_59ac_11eb_8c01_983b8fac92e7row0_col3\" class=\"data row0 col3\" >80.9</td>\n",
       "            </tr>\n",
       "            <tr>\n",
       "                        <th id=\"T_8f3b0015_59ac_11eb_8c01_983b8fac92e7level0_row1\" class=\"row_heading level0 row1\" >Cabrera High School</th>\n",
       "                        <td id=\"T_8f3b0015_59ac_11eb_8c01_983b8fac92e7row1_col0\" class=\"data row1 col0\" >83.7</td>\n",
       "                        <td id=\"T_8f3b0015_59ac_11eb_8c01_983b8fac92e7row1_col1\" class=\"data row1 col1\" >84.3</td>\n",
       "                        <td id=\"T_8f3b0015_59ac_11eb_8c01_983b8fac92e7row1_col2\" class=\"data row1 col2\" >83.8</td>\n",
       "                        <td id=\"T_8f3b0015_59ac_11eb_8c01_983b8fac92e7row1_col3\" class=\"data row1 col3\" >84.3</td>\n",
       "            </tr>\n",
       "            <tr>\n",
       "                        <th id=\"T_8f3b0015_59ac_11eb_8c01_983b8fac92e7level0_row2\" class=\"row_heading level0 row2\" >Figueroa High School</th>\n",
       "                        <td id=\"T_8f3b0015_59ac_11eb_8c01_983b8fac92e7row2_col0\" class=\"data row2 col0\" >81.2</td>\n",
       "                        <td id=\"T_8f3b0015_59ac_11eb_8c01_983b8fac92e7row2_col1\" class=\"data row2 col1\" >81.4</td>\n",
       "                        <td id=\"T_8f3b0015_59ac_11eb_8c01_983b8fac92e7row2_col2\" class=\"data row2 col2\" >80.6</td>\n",
       "                        <td id=\"T_8f3b0015_59ac_11eb_8c01_983b8fac92e7row2_col3\" class=\"data row2 col3\" >81.4</td>\n",
       "            </tr>\n",
       "            <tr>\n",
       "                        <th id=\"T_8f3b0015_59ac_11eb_8c01_983b8fac92e7level0_row3\" class=\"row_heading level0 row3\" >Ford High School</th>\n",
       "                        <td id=\"T_8f3b0015_59ac_11eb_8c01_983b8fac92e7row3_col0\" class=\"data row3 col0\" >80.6</td>\n",
       "                        <td id=\"T_8f3b0015_59ac_11eb_8c01_983b8fac92e7row3_col1\" class=\"data row3 col1\" >81.3</td>\n",
       "                        <td id=\"T_8f3b0015_59ac_11eb_8c01_983b8fac92e7row3_col2\" class=\"data row3 col2\" >80.4</td>\n",
       "                        <td id=\"T_8f3b0015_59ac_11eb_8c01_983b8fac92e7row3_col3\" class=\"data row3 col3\" >80.7</td>\n",
       "            </tr>\n",
       "            <tr>\n",
       "                        <th id=\"T_8f3b0015_59ac_11eb_8c01_983b8fac92e7level0_row4\" class=\"row_heading level0 row4\" >Griffin High School</th>\n",
       "                        <td id=\"T_8f3b0015_59ac_11eb_8c01_983b8fac92e7row4_col0\" class=\"data row4 col0\" >83.4</td>\n",
       "                        <td id=\"T_8f3b0015_59ac_11eb_8c01_983b8fac92e7row4_col1\" class=\"data row4 col1\" >83.7</td>\n",
       "                        <td id=\"T_8f3b0015_59ac_11eb_8c01_983b8fac92e7row4_col2\" class=\"data row4 col2\" >84.3</td>\n",
       "                        <td id=\"T_8f3b0015_59ac_11eb_8c01_983b8fac92e7row4_col3\" class=\"data row4 col3\" >84.0</td>\n",
       "            </tr>\n",
       "            <tr>\n",
       "                        <th id=\"T_8f3b0015_59ac_11eb_8c01_983b8fac92e7level0_row5\" class=\"row_heading level0 row5\" >Hernandez High School</th>\n",
       "                        <td id=\"T_8f3b0015_59ac_11eb_8c01_983b8fac92e7row5_col0\" class=\"data row5 col0\" >80.9</td>\n",
       "                        <td id=\"T_8f3b0015_59ac_11eb_8c01_983b8fac92e7row5_col1\" class=\"data row5 col1\" >80.7</td>\n",
       "                        <td id=\"T_8f3b0015_59ac_11eb_8c01_983b8fac92e7row5_col2\" class=\"data row5 col2\" >81.4</td>\n",
       "                        <td id=\"T_8f3b0015_59ac_11eb_8c01_983b8fac92e7row5_col3\" class=\"data row5 col3\" >80.9</td>\n",
       "            </tr>\n",
       "            <tr>\n",
       "                        <th id=\"T_8f3b0015_59ac_11eb_8c01_983b8fac92e7level0_row6\" class=\"row_heading level0 row6\" >Holden High School</th>\n",
       "                        <td id=\"T_8f3b0015_59ac_11eb_8c01_983b8fac92e7row6_col0\" class=\"data row6 col0\" >83.7</td>\n",
       "                        <td id=\"T_8f3b0015_59ac_11eb_8c01_983b8fac92e7row6_col1\" class=\"data row6 col1\" >83.3</td>\n",
       "                        <td id=\"T_8f3b0015_59ac_11eb_8c01_983b8fac92e7row6_col2\" class=\"data row6 col2\" >83.8</td>\n",
       "                        <td id=\"T_8f3b0015_59ac_11eb_8c01_983b8fac92e7row6_col3\" class=\"data row6 col3\" >84.7</td>\n",
       "            </tr>\n",
       "            <tr>\n",
       "                        <th id=\"T_8f3b0015_59ac_11eb_8c01_983b8fac92e7level0_row7\" class=\"row_heading level0 row7\" >Huang High School</th>\n",
       "                        <td id=\"T_8f3b0015_59ac_11eb_8c01_983b8fac92e7row7_col0\" class=\"data row7 col0\" >81.3</td>\n",
       "                        <td id=\"T_8f3b0015_59ac_11eb_8c01_983b8fac92e7row7_col1\" class=\"data row7 col1\" >81.5</td>\n",
       "                        <td id=\"T_8f3b0015_59ac_11eb_8c01_983b8fac92e7row7_col2\" class=\"data row7 col2\" >81.4</td>\n",
       "                        <td id=\"T_8f3b0015_59ac_11eb_8c01_983b8fac92e7row7_col3\" class=\"data row7 col3\" >80.3</td>\n",
       "            </tr>\n",
       "            <tr>\n",
       "                        <th id=\"T_8f3b0015_59ac_11eb_8c01_983b8fac92e7level0_row8\" class=\"row_heading level0 row8\" >Johnson High School</th>\n",
       "                        <td id=\"T_8f3b0015_59ac_11eb_8c01_983b8fac92e7row8_col0\" class=\"data row8 col0\" >81.3</td>\n",
       "                        <td id=\"T_8f3b0015_59ac_11eb_8c01_983b8fac92e7row8_col1\" class=\"data row8 col1\" >80.8</td>\n",
       "                        <td id=\"T_8f3b0015_59ac_11eb_8c01_983b8fac92e7row8_col2\" class=\"data row8 col2\" >80.6</td>\n",
       "                        <td id=\"T_8f3b0015_59ac_11eb_8c01_983b8fac92e7row8_col3\" class=\"data row8 col3\" >81.2</td>\n",
       "            </tr>\n",
       "            <tr>\n",
       "                        <th id=\"T_8f3b0015_59ac_11eb_8c01_983b8fac92e7level0_row9\" class=\"row_heading level0 row9\" >Pena High School</th>\n",
       "                        <td id=\"T_8f3b0015_59ac_11eb_8c01_983b8fac92e7row9_col0\" class=\"data row9 col0\" >83.8</td>\n",
       "                        <td id=\"T_8f3b0015_59ac_11eb_8c01_983b8fac92e7row9_col1\" class=\"data row9 col1\" >83.6</td>\n",
       "                        <td id=\"T_8f3b0015_59ac_11eb_8c01_983b8fac92e7row9_col2\" class=\"data row9 col2\" >84.3</td>\n",
       "                        <td id=\"T_8f3b0015_59ac_11eb_8c01_983b8fac92e7row9_col3\" class=\"data row9 col3\" >84.6</td>\n",
       "            </tr>\n",
       "            <tr>\n",
       "                        <th id=\"T_8f3b0015_59ac_11eb_8c01_983b8fac92e7level0_row10\" class=\"row_heading level0 row10\" >Rodriguez High School</th>\n",
       "                        <td id=\"T_8f3b0015_59ac_11eb_8c01_983b8fac92e7row10_col0\" class=\"data row10 col0\" >81.0</td>\n",
       "                        <td id=\"T_8f3b0015_59ac_11eb_8c01_983b8fac92e7row10_col1\" class=\"data row10 col1\" >80.6</td>\n",
       "                        <td id=\"T_8f3b0015_59ac_11eb_8c01_983b8fac92e7row10_col2\" class=\"data row10 col2\" >80.9</td>\n",
       "                        <td id=\"T_8f3b0015_59ac_11eb_8c01_983b8fac92e7row10_col3\" class=\"data row10 col3\" >80.4</td>\n",
       "            </tr>\n",
       "            <tr>\n",
       "                        <th id=\"T_8f3b0015_59ac_11eb_8c01_983b8fac92e7level0_row11\" class=\"row_heading level0 row11\" >Shelton High School</th>\n",
       "                        <td id=\"T_8f3b0015_59ac_11eb_8c01_983b8fac92e7row11_col0\" class=\"data row11 col0\" >84.1</td>\n",
       "                        <td id=\"T_8f3b0015_59ac_11eb_8c01_983b8fac92e7row11_col1\" class=\"data row11 col1\" >83.4</td>\n",
       "                        <td id=\"T_8f3b0015_59ac_11eb_8c01_983b8fac92e7row11_col2\" class=\"data row11 col2\" >84.4</td>\n",
       "                        <td id=\"T_8f3b0015_59ac_11eb_8c01_983b8fac92e7row11_col3\" class=\"data row11 col3\" >82.8</td>\n",
       "            </tr>\n",
       "            <tr>\n",
       "                        <th id=\"T_8f3b0015_59ac_11eb_8c01_983b8fac92e7level0_row12\" class=\"row_heading level0 row12\" >Thomas High School</th>\n",
       "                        <td id=\"T_8f3b0015_59ac_11eb_8c01_983b8fac92e7row12_col0\" class=\"data row12 col0\" >83.7</td>\n",
       "                        <td id=\"T_8f3b0015_59ac_11eb_8c01_983b8fac92e7row12_col1\" class=\"data row12 col1\" >84.3</td>\n",
       "                        <td id=\"T_8f3b0015_59ac_11eb_8c01_983b8fac92e7row12_col2\" class=\"data row12 col2\" >83.6</td>\n",
       "                        <td id=\"T_8f3b0015_59ac_11eb_8c01_983b8fac92e7row12_col3\" class=\"data row12 col3\" >83.8</td>\n",
       "            </tr>\n",
       "            <tr>\n",
       "                        <th id=\"T_8f3b0015_59ac_11eb_8c01_983b8fac92e7level0_row13\" class=\"row_heading level0 row13\" >Wilson High School</th>\n",
       "                        <td id=\"T_8f3b0015_59ac_11eb_8c01_983b8fac92e7row13_col0\" class=\"data row13 col0\" >83.9</td>\n",
       "                        <td id=\"T_8f3b0015_59ac_11eb_8c01_983b8fac92e7row13_col1\" class=\"data row13 col1\" >84.0</td>\n",
       "                        <td id=\"T_8f3b0015_59ac_11eb_8c01_983b8fac92e7row13_col2\" class=\"data row13 col2\" >83.8</td>\n",
       "                        <td id=\"T_8f3b0015_59ac_11eb_8c01_983b8fac92e7row13_col3\" class=\"data row13 col3\" >84.3</td>\n",
       "            </tr>\n",
       "            <tr>\n",
       "                        <th id=\"T_8f3b0015_59ac_11eb_8c01_983b8fac92e7level0_row14\" class=\"row_heading level0 row14\" >Wright High School</th>\n",
       "                        <td id=\"T_8f3b0015_59ac_11eb_8c01_983b8fac92e7row14_col0\" class=\"data row14 col0\" >83.8</td>\n",
       "                        <td id=\"T_8f3b0015_59ac_11eb_8c01_983b8fac92e7row14_col1\" class=\"data row14 col1\" >83.8</td>\n",
       "                        <td id=\"T_8f3b0015_59ac_11eb_8c01_983b8fac92e7row14_col2\" class=\"data row14 col2\" >84.2</td>\n",
       "                        <td id=\"T_8f3b0015_59ac_11eb_8c01_983b8fac92e7row14_col3\" class=\"data row14 col3\" >84.1</td>\n",
       "            </tr>\n",
       "    </tbody></table>"
      ],
      "text/plain": [
       "<pandas.io.formats.style.Styler at 0x2295a1aacd0>"
      ]
     },
     "execution_count": 17,
     "metadata": {},
     "output_type": "execute_result"
    }
   ],
   "source": [
    "#creates grade level average math scores for each school \n",
    "ninth_reading = student_df.loc[student_df['grade'] == '9th'].groupby('school_name')[\"reading_score\"].mean()\n",
    "tenth_reading = student_df.loc[student_df['grade'] == '10th'].groupby('school_name')[\"reading_score\"].mean()\n",
    "eleventh_reading = student_df.loc[student_df['grade'] == '11th'].groupby('school_name')[\"reading_score\"].mean()\n",
    "twelfth_reading = student_df.loc[student_df['grade'] == '12th'].groupby('school_name')[\"reading_score\"].mean()\n",
    "\n",
    "read_scores = pd.DataFrame({\n",
    "        \"9th\": ninth_reading,\n",
    "        \"10th\": tenth_reading,\n",
    "        \"11th\": eleventh_reading,\n",
    "        \"12th\": twelfth_reading\n",
    "})\n",
    "read_scores = read_scores[['9th', '10th', '11th', '12th']]\n",
    "read_scores.index.name = \"School\"\n",
    "\n",
    "#show and format\n",
    "read_scores.style.format({'9th': '{:.1f}', \n",
    "                          \"10th\": '{:.1f}', \n",
    "                          \"11th\": \"{:.1f}\", \n",
    "                          \"12th\": \"{:.1f}\"})"
   ]
  },
  {
   "cell_type": "markdown",
   "metadata": {},
   "source": [
    "## Scores by School Spending"
   ]
  },
  {
   "cell_type": "markdown",
   "metadata": {},
   "source": [
    "* Create a table that breaks down school performances based on average Spending Ranges (Per Student). Use 4 reasonable bins to group school spending. Include in the table each of the following:\n",
    "  * Average Math Score\n",
    "  * Average Reading Score\n",
    "  * % Passing Math\n",
    "  * % Passing Reading\n",
    "  * Overall Passing Rate (Average of the above two) -->"
   ]
  },
  {
   "cell_type": "code",
   "execution_count": 18,
   "metadata": {
    "scrolled": false
   },
   "outputs": [],
   "source": [
    "Scores_by_School_Spending = school_summary_df.copy()\n",
    "\n",
    "#Scores_by_School_Spending"
   ]
  },
  {
   "cell_type": "code",
   "execution_count": 19,
   "metadata": {
    "scrolled": true
   },
   "outputs": [],
   "source": [
    "Scores_by_School_Spending.reset_index(inplace=True)\n",
    "\n",
    "#Scores_by_School_Spending"
   ]
  },
  {
   "cell_type": "code",
   "execution_count": 20,
   "metadata": {
    "scrolled": false
   },
   "outputs": [],
   "source": [
    "#this cell can only be run once -----------------------------------------\n",
    "# rerun all cells from beginning --------------------------------------\n",
    "#Scores_by_School_Spending.type\n",
    "\n",
    "df = pd.DataFrame(Scores_by_School_Spending)\n",
    "\n",
    "df['Per Student Budget'] = df['Per Student Budget'].str.replace('$', '')\n",
    "df['Per Student Budget'] = df[\"Per Student Budget\"].astype('float')\n",
    "\n",
    "df.drop(df.columns[[0,1,2,3]], axis = 1, inplace = True)\n",
    "\n",
    "#df"
   ]
  },
  {
   "cell_type": "code",
   "execution_count": 21,
   "metadata": {},
   "outputs": [],
   "source": [
    "# Establish the bins \n",
    "bins = [0.0, 585.0, 630.0, 645.0, 680.0]\n",
    "names = [\"<$585\", \"$585-630\", \"$630-645\", \"$645-680\"]"
   ]
  },
  {
   "cell_type": "code",
   "execution_count": 22,
   "metadata": {
    "scrolled": false
   },
   "outputs": [],
   "source": [
    "df[\"Spending Ranges (per student)\"] = pd.cut(df[\"Per Student Budget\"], bins, labels=names)\n",
    "                                                 \n",
    "#df"
   ]
  },
  {
   "cell_type": "code",
   "execution_count": 23,
   "metadata": {
    "scrolled": true
   },
   "outputs": [],
   "source": [
    "#this cell can only be run once -----------------------------------------\n",
    "# rerun all cells from beginning --------------------------------------\n",
    "\n",
    "df.drop(df.columns[[0]], axis = 1, inplace = True)\n",
    "\n",
    "#df"
   ]
  },
  {
   "cell_type": "code",
   "execution_count": 24,
   "metadata": {},
   "outputs": [
    {
     "data": {
      "text/plain": [
       "array(['Average Math Score', 'Average Reading Score', '% Passing Math',\n",
       "       '% Passing Reading', '% Passing Reading/Math',\n",
       "       'Spending Ranges (per student)'], dtype=object)"
      ]
     },
     "execution_count": 24,
     "metadata": {},
     "output_type": "execute_result"
    }
   ],
   "source": [
    "df.columns.values"
   ]
  },
  {
   "cell_type": "code",
   "execution_count": 25,
   "metadata": {},
   "outputs": [],
   "source": [
    "columns_reordered=['Spending Ranges (per student)', 'Average Math Score', 'Average Reading Score', '% Passing Math',\n",
    "       '% Passing Reading', '% Passing Reading/Math']"
   ]
  },
  {
   "cell_type": "code",
   "execution_count": 26,
   "metadata": {},
   "outputs": [],
   "source": [
    "df=df[columns_reordered]\n",
    "df['% Passing Math'] = df['% Passing Math'].str.replace('%', '')\n",
    "df['% Passing Reading'] = df['% Passing Reading'].str.replace('%', '')\n",
    "df['% Passing Reading/Math'] = df['% Passing Reading/Math'].str.replace('%', '')\n",
    "\n",
    "df['Average Math Score'] = df['Average Math Score'].astype('float')\n",
    "df['Average Reading Score'] = df['Average Reading Score'].astype('float')\n",
    "df['% Passing Math'] = df['% Passing Math'].astype('float')\n",
    "df['% Passing Reading'] = df['% Passing Reading'].astype('float')\n",
    "df['% Passing Reading/Math'] = df['% Passing Reading/Math'].astype('float')\n",
    "\n",
    "#df"
   ]
  },
  {
   "cell_type": "code",
   "execution_count": 27,
   "metadata": {},
   "outputs": [
    {
     "data": {
      "text/html": [
       "<div>\n",
       "<style scoped>\n",
       "    .dataframe tbody tr th:only-of-type {\n",
       "        vertical-align: middle;\n",
       "    }\n",
       "\n",
       "    .dataframe tbody tr th {\n",
       "        vertical-align: top;\n",
       "    }\n",
       "\n",
       "    .dataframe thead th {\n",
       "        text-align: right;\n",
       "    }\n",
       "</style>\n",
       "<table border=\"1\" class=\"dataframe\">\n",
       "  <thead>\n",
       "    <tr style=\"text-align: right;\">\n",
       "      <th></th>\n",
       "      <th>Average Math Score</th>\n",
       "      <th>Average Reading Score</th>\n",
       "      <th>% Passing Math</th>\n",
       "      <th>% Passing Reading</th>\n",
       "      <th>% Passing Reading/Math</th>\n",
       "    </tr>\n",
       "    <tr>\n",
       "      <th>Spending Ranges (per student)</th>\n",
       "      <th></th>\n",
       "      <th></th>\n",
       "      <th></th>\n",
       "      <th></th>\n",
       "      <th></th>\n",
       "    </tr>\n",
       "  </thead>\n",
       "  <tbody>\n",
       "    <tr>\n",
       "      <th>&lt;$585</th>\n",
       "      <td>83.452500</td>\n",
       "      <td>83.932500</td>\n",
       "      <td>93.460000</td>\n",
       "      <td>96.610000</td>\n",
       "      <td>90.367500</td>\n",
       "    </tr>\n",
       "    <tr>\n",
       "      <th>$585-630</th>\n",
       "      <td>81.900000</td>\n",
       "      <td>83.155000</td>\n",
       "      <td>87.132500</td>\n",
       "      <td>92.717500</td>\n",
       "      <td>81.417500</td>\n",
       "    </tr>\n",
       "    <tr>\n",
       "      <th>$630-645</th>\n",
       "      <td>78.517500</td>\n",
       "      <td>81.625000</td>\n",
       "      <td>73.485000</td>\n",
       "      <td>84.392500</td>\n",
       "      <td>62.857500</td>\n",
       "    </tr>\n",
       "    <tr>\n",
       "      <th>$645-680</th>\n",
       "      <td>76.996667</td>\n",
       "      <td>81.026667</td>\n",
       "      <td>66.163333</td>\n",
       "      <td>81.133333</td>\n",
       "      <td>53.526667</td>\n",
       "    </tr>\n",
       "  </tbody>\n",
       "</table>\n",
       "</div>"
      ],
      "text/plain": [
       "                               Average Math Score  Average Reading Score  \\\n",
       "Spending Ranges (per student)                                              \n",
       "<$585                                   83.452500              83.932500   \n",
       "$585-630                                81.900000              83.155000   \n",
       "$630-645                                78.517500              81.625000   \n",
       "$645-680                                76.996667              81.026667   \n",
       "\n",
       "                               % Passing Math  % Passing Reading  \\\n",
       "Spending Ranges (per student)                                      \n",
       "<$585                               93.460000          96.610000   \n",
       "$585-630                            87.132500          92.717500   \n",
       "$630-645                            73.485000          84.392500   \n",
       "$645-680                            66.163333          81.133333   \n",
       "\n",
       "                               % Passing Reading/Math  \n",
       "Spending Ranges (per student)                          \n",
       "<$585                                       90.367500  \n",
       "$585-630                                    81.417500  \n",
       "$630-645                                    62.857500  \n",
       "$645-680                                    53.526667  "
      ]
     },
     "execution_count": 27,
     "metadata": {},
     "output_type": "execute_result"
    }
   ],
   "source": [
    "scores_by_spending = df.groupby(['Spending Ranges (per student)'])\n",
    "\n",
    "\n",
    "scores_by_spending.mean()"
   ]
  },
  {
   "cell_type": "markdown",
   "metadata": {},
   "source": [
    "## Scores by School Size"
   ]
  },
  {
   "cell_type": "markdown",
   "metadata": {},
   "source": [
    "* Perform the same operations as above, based on school size."
   ]
  },
  {
   "cell_type": "code",
   "execution_count": 28,
   "metadata": {
    "scrolled": true
   },
   "outputs": [],
   "source": [
    "Scores_by_School_Size = school_summary_df.copy()\n",
    "\n",
    "#Scores_by_School_Size"
   ]
  },
  {
   "cell_type": "code",
   "execution_count": 29,
   "metadata": {},
   "outputs": [
    {
     "data": {
      "text/plain": [
       "Index(['School type', 'total students', 'Total School Budget',\n",
       "       'Per Student Budget', 'Average Math Score', 'Average Reading Score',\n",
       "       '% Passing Math', '% Passing Reading', '% Passing Reading/Math'],\n",
       "      dtype='object')"
      ]
     },
     "execution_count": 29,
     "metadata": {},
     "output_type": "execute_result"
    }
   ],
   "source": [
    "Scores_by_School_Size.columns"
   ]
  },
  {
   "cell_type": "code",
   "execution_count": 30,
   "metadata": {
    "scrolled": true
   },
   "outputs": [],
   "source": [
    "Scores_by_School_Size.reset_index(inplace=True)\n",
    "\n",
    "#Scores_by_School_Size"
   ]
  },
  {
   "cell_type": "code",
   "execution_count": 31,
   "metadata": {},
   "outputs": [],
   "source": [
    "Scores_by_School_Size.columns.values"
   ]
  },
  {
   "cell_type": "code",
   "execution_count": 32,
   "metadata": {},
   "outputs": [],
   "source": [
    "school_size = pd.DataFrame(Scores_by_School_Size)\n",
    "\n",
    "\n",
    "school_size.drop(Scores_by_School_Size.columns[0], axis = 1, inplace = True)"
   ]
  },
  {
   "cell_type": "code",
   "execution_count": 33,
   "metadata": {
    "scrolled": true
   },
   "outputs": [],
   "source": [
    "#this cell can only be run once -----------------------------------------\n",
    "# rerun all cells from beginning --------------------------------------\n",
    "#Scores_by_School_Size.type\n",
    "\n",
    "size = pd.DataFrame(Scores_by_School_Size)\n",
    "\n",
    "size.drop(size.columns[[0,1,3,4]], axis = 1, inplace = True)\n",
    "\n",
    "#size"
   ]
  },
  {
   "cell_type": "code",
   "execution_count": 34,
   "metadata": {},
   "outputs": [],
   "source": [
    "#size.columns"
   ]
  },
  {
   "cell_type": "code",
   "execution_count": 35,
   "metadata": {},
   "outputs": [],
   "source": [
    "# Establish the bins \n",
    "bins = [0.0, 1000.0, 2000.0, 5000.0]\n",
    "names = [\"<1000\", \"1000-2000\", \"2000-5000\"]"
   ]
  },
  {
   "cell_type": "code",
   "execution_count": 36,
   "metadata": {
    "scrolled": true
   },
   "outputs": [],
   "source": [
    "size[\"School Size\"] = pd.cut(size['total students'], bins, labels=names)\n",
    "                                                 \n",
    "#size"
   ]
  },
  {
   "cell_type": "code",
   "execution_count": 37,
   "metadata": {},
   "outputs": [],
   "source": [
    "#size.columns.values"
   ]
  },
  {
   "cell_type": "code",
   "execution_count": 38,
   "metadata": {
    "scrolled": true
   },
   "outputs": [],
   "source": [
    "columns_reordered=['School Size', 'Average Math Score', 'Average Reading Score', '% Passing Math',\n",
    "       '% Passing Reading', '% Passing Reading/Math']\n",
    "\n",
    "#columns_reordered"
   ]
  },
  {
   "cell_type": "code",
   "execution_count": 39,
   "metadata": {},
   "outputs": [],
   "source": [
    "size=size[columns_reordered]\n",
    "\n",
    "#size"
   ]
  },
  {
   "cell_type": "code",
   "execution_count": 40,
   "metadata": {},
   "outputs": [],
   "source": [
    "\n",
    "size['% Passing Math'] = size['% Passing Math'].str.replace('%', '')\n",
    "size['% Passing Reading'] = size['% Passing Reading'].str.replace('%', '')\n",
    "size['% Passing Reading/Math'] =size['% Passing Reading/Math'].str.replace('%', '')\n",
    "\n",
    "size['Average Math Score'] = size['Average Math Score'].astype('float')\n",
    "size['Average Reading Score'] = size['Average Reading Score'].astype('float')\n",
    "size['% Passing Math'] = size['% Passing Math'].astype('float')\n",
    "size['% Passing Reading'] = size['% Passing Reading'].astype('float')\n",
    "size['% Passing Reading/Math'] = size['% Passing Reading/Math'].astype('float')\n",
    "\n",
    "#size"
   ]
  },
  {
   "cell_type": "code",
   "execution_count": 41,
   "metadata": {},
   "outputs": [
    {
     "data": {
      "text/html": [
       "<div>\n",
       "<style scoped>\n",
       "    .dataframe tbody tr th:only-of-type {\n",
       "        vertical-align: middle;\n",
       "    }\n",
       "\n",
       "    .dataframe tbody tr th {\n",
       "        vertical-align: top;\n",
       "    }\n",
       "\n",
       "    .dataframe thead th {\n",
       "        text-align: right;\n",
       "    }\n",
       "</style>\n",
       "<table border=\"1\" class=\"dataframe\">\n",
       "  <thead>\n",
       "    <tr style=\"text-align: right;\">\n",
       "      <th></th>\n",
       "      <th>Average Math Score</th>\n",
       "      <th>Average Reading Score</th>\n",
       "      <th>% Passing Math</th>\n",
       "      <th>% Passing Reading</th>\n",
       "      <th>% Passing Reading/Math</th>\n",
       "    </tr>\n",
       "    <tr>\n",
       "      <th>School Size</th>\n",
       "      <th></th>\n",
       "      <th></th>\n",
       "      <th></th>\n",
       "      <th></th>\n",
       "      <th></th>\n",
       "    </tr>\n",
       "  </thead>\n",
       "  <tbody>\n",
       "    <tr>\n",
       "      <th>&lt;1000</th>\n",
       "      <td>83.820</td>\n",
       "      <td>83.92500</td>\n",
       "      <td>93.55000</td>\n",
       "      <td>96.10000</td>\n",
       "      <td>89.885</td>\n",
       "    </tr>\n",
       "    <tr>\n",
       "      <th>1000-2000</th>\n",
       "      <td>83.374</td>\n",
       "      <td>83.86600</td>\n",
       "      <td>93.59800</td>\n",
       "      <td>96.79000</td>\n",
       "      <td>90.620</td>\n",
       "    </tr>\n",
       "    <tr>\n",
       "      <th>2000-5000</th>\n",
       "      <td>77.745</td>\n",
       "      <td>81.34375</td>\n",
       "      <td>69.96375</td>\n",
       "      <td>82.76625</td>\n",
       "      <td>58.285</td>\n",
       "    </tr>\n",
       "  </tbody>\n",
       "</table>\n",
       "</div>"
      ],
      "text/plain": [
       "             Average Math Score  Average Reading Score  % Passing Math  \\\n",
       "School Size                                                              \n",
       "<1000                    83.820               83.92500        93.55000   \n",
       "1000-2000                83.374               83.86600        93.59800   \n",
       "2000-5000                77.745               81.34375        69.96375   \n",
       "\n",
       "             % Passing Reading  % Passing Reading/Math  \n",
       "School Size                                             \n",
       "<1000                 96.10000                  89.885  \n",
       "1000-2000             96.79000                  90.620  \n",
       "2000-5000             82.76625                  58.285  "
      ]
     },
     "execution_count": 41,
     "metadata": {},
     "output_type": "execute_result"
    }
   ],
   "source": [
    "scores_by_size = size.groupby([\"School Size\"])\n",
    "\n",
    "\n",
    "scores_by_size.mean()"
   ]
  },
  {
   "cell_type": "markdown",
   "metadata": {},
   "source": [
    "## Scores by School Type"
   ]
  },
  {
   "cell_type": "markdown",
   "metadata": {},
   "source": [
    "* Perform the same operations as above, based on school type"
   ]
  },
  {
   "cell_type": "code",
   "execution_count": 42,
   "metadata": {},
   "outputs": [],
   "source": [
    "type = school_summary_df.copy()\n",
    "\n",
    "#type"
   ]
  },
  {
   "cell_type": "code",
   "execution_count": 43,
   "metadata": {},
   "outputs": [
    {
     "data": {
      "text/plain": [
       "array(['School type', 'total students', 'Total School Budget',\n",
       "       'Per Student Budget', 'Average Math Score',\n",
       "       'Average Reading Score', '% Passing Math', '% Passing Reading',\n",
       "       '% Passing Reading/Math'], dtype=object)"
      ]
     },
     "execution_count": 43,
     "metadata": {},
     "output_type": "execute_result"
    }
   ],
   "source": [
    "type.columns.values"
   ]
  },
  {
   "cell_type": "code",
   "execution_count": 44,
   "metadata": {},
   "outputs": [],
   "source": [
    "type.reset_index(inplace=True)\n",
    "type.drop(type.columns[[0,2,3,4]], axis = 1, inplace = True)\n",
    "\n",
    "#type"
   ]
  },
  {
   "cell_type": "code",
   "execution_count": 45,
   "metadata": {},
   "outputs": [],
   "source": [
    "type['% Passing Math'] = type['% Passing Math'].str.replace('%', '')\n",
    "type['% Passing Reading'] = type['% Passing Reading'].str.replace('%', '')\n",
    "type['% Passing Reading/Math'] =type['% Passing Reading/Math'].str.replace('%', '')\n",
    "\n",
    "type['Average Math Score'] = type['Average Math Score'].astype('float')\n",
    "type['Average Reading Score'] = type['Average Reading Score'].astype('float')\n",
    "type['% Passing Math'] = type['% Passing Math'].astype('float')\n",
    "type['% Passing Reading'] = type['% Passing Reading'].astype('float')\n",
    "type['% Passing Reading/Math'] = type['% Passing Reading/Math'].astype('float')\n",
    "\n",
    "#type"
   ]
  },
  {
   "cell_type": "code",
   "execution_count": 46,
   "metadata": {},
   "outputs": [
    {
     "data": {
      "text/html": [
       "<div>\n",
       "<style scoped>\n",
       "    .dataframe tbody tr th:only-of-type {\n",
       "        vertical-align: middle;\n",
       "    }\n",
       "\n",
       "    .dataframe tbody tr th {\n",
       "        vertical-align: top;\n",
       "    }\n",
       "\n",
       "    .dataframe thead th {\n",
       "        text-align: right;\n",
       "    }\n",
       "</style>\n",
       "<table border=\"1\" class=\"dataframe\">\n",
       "  <thead>\n",
       "    <tr style=\"text-align: right;\">\n",
       "      <th></th>\n",
       "      <th>Average Math Score</th>\n",
       "      <th>Average Reading Score</th>\n",
       "      <th>% Passing Math</th>\n",
       "      <th>% Passing Reading</th>\n",
       "      <th>% Passing Reading/Math</th>\n",
       "    </tr>\n",
       "    <tr>\n",
       "      <th>School type</th>\n",
       "      <th></th>\n",
       "      <th></th>\n",
       "      <th></th>\n",
       "      <th></th>\n",
       "      <th></th>\n",
       "    </tr>\n",
       "  </thead>\n",
       "  <tbody>\n",
       "    <tr>\n",
       "      <th>Charter</th>\n",
       "      <td>83.472500</td>\n",
       "      <td>83.896250</td>\n",
       "      <td>93.620000</td>\n",
       "      <td>96.586250</td>\n",
       "      <td>90.431250</td>\n",
       "    </tr>\n",
       "    <tr>\n",
       "      <th>District</th>\n",
       "      <td>76.955714</td>\n",
       "      <td>80.965714</td>\n",
       "      <td>66.548571</td>\n",
       "      <td>80.798571</td>\n",
       "      <td>53.671429</td>\n",
       "    </tr>\n",
       "  </tbody>\n",
       "</table>\n",
       "</div>"
      ],
      "text/plain": [
       "             Average Math Score  Average Reading Score  % Passing Math  \\\n",
       "School type                                                              \n",
       "Charter               83.472500              83.896250       93.620000   \n",
       "District              76.955714              80.965714       66.548571   \n",
       "\n",
       "             % Passing Reading  % Passing Reading/Math  \n",
       "School type                                             \n",
       "Charter              96.586250               90.431250  \n",
       "District             80.798571               53.671429  "
      ]
     },
     "execution_count": 46,
     "metadata": {},
     "output_type": "execute_result"
    }
   ],
   "source": [
    "type = type.groupby(['School type'])\n",
    "\n",
    "type.mean()"
   ]
  },
  {
   "cell_type": "code",
   "execution_count": null,
   "metadata": {},
   "outputs": [],
   "source": []
  },
  {
   "cell_type": "code",
   "execution_count": null,
   "metadata": {},
   "outputs": [],
   "source": []
  },
  {
   "cell_type": "code",
   "execution_count": null,
   "metadata": {},
   "outputs": [],
   "source": []
  },
  {
   "cell_type": "code",
   "execution_count": null,
   "metadata": {},
   "outputs": [],
   "source": []
  },
  {
   "cell_type": "code",
   "execution_count": null,
   "metadata": {},
   "outputs": [],
   "source": []
  }
 ],
 "metadata": {
  "anaconda-cloud": {},
  "kernel_info": {
   "name": "python3"
  },
  "kernelspec": {
   "display_name": "Python 3",
   "language": "python",
   "name": "python3"
  },
  "language_info": {
   "codemirror_mode": {
    "name": "ipython",
    "version": 3
   },
   "file_extension": ".py",
   "mimetype": "text/x-python",
   "name": "python",
   "nbconvert_exporter": "python",
   "pygments_lexer": "ipython3",
   "version": "3.8.3"
  },
  "latex_envs": {
   "LaTeX_envs_menu_present": true,
   "autoclose": false,
   "autocomplete": true,
   "bibliofile": "biblio.bib",
   "cite_by": "apalike",
   "current_citInitial": 1,
   "eqLabelWithNumbers": true,
   "eqNumInitial": 1,
   "hotkeys": {
    "equation": "Ctrl-E",
    "itemize": "Ctrl-I"
   },
   "labels_anchors": false,
   "latex_user_defs": false,
   "report_style_numbering": false,
   "user_envs_cfg": false
  },
  "nteract": {
   "version": "0.8.4"
  }
 },
 "nbformat": 4,
 "nbformat_minor": 1
}
