{
 "cells": [
  {
   "cell_type": "markdown",
   "metadata": {},
   "source": [
    "### Note\n",
    "* Instructions have been included for each segment. You do not have to follow them exactly, but they are included to help you think through the steps."
   ]
  },
  {
   "cell_type": "code",
   "execution_count": 1,
   "metadata": {},
   "outputs": [],
   "source": [
    "# Dependencies and Setup\n",
    "import pandas as pd\n",
    "import numpy as np\n",
    "\n",
    "# File to Load (Remember to Change These)\n",
    "school_data_to_load = \"Resources/schools_complete.csv\"\n",
    "student_data_to_load = \"Resources/students_complete.csv\"\n",
    "\n",
    "# Read School and Student Data File and store into Pandas DataFrames\n",
    "school_data = pd.read_csv(school_data_to_load)\n",
    "student_data = pd.read_csv(student_data_to_load)\n",
    "\n",
    "# Combine the data into a single dataset.  \n",
    "\n",
    "school_data_complete = pd.merge(student_data, school_data, how=\"left\", on=[\"school_name\", \"school_name\"])\n"
   ]
  },
  {
   "cell_type": "markdown",
   "metadata": {},
   "source": [
    "## District Summary\n",
    "\n",
    "* Calculate the total number of schools\n",
    "\n",
    "* Calculate the total number of students\n",
    "\n",
    "* Calculate the total budget\n",
    "\n",
    "* Calculate the average math score \n",
    "\n",
    "* Calculate the average reading score\n",
    "\n",
    "* Calculate the percentage of students with a passing math score (70 or greater)\n",
    "\n",
    "* Calculate the percentage of students with a passing reading score (70 or greater)\n",
    "\n",
    "* Calculate the percentage of students who passed math **and** reading (% Overall Passing)\n",
    "\n",
    "* Create a dataframe to hold the above results\n",
    "\n",
    "* Optional: give the displayed data cleaner formatting"
   ]
  },
  {
   "cell_type": "code",
   "execution_count": 2,
   "metadata": {},
   "outputs": [],
   "source": [
    "a = (\"total schools\")\n",
    "b = (\"total students\")\n",
    "c = (\"total budget\")\n",
    "d = (\"average reading score\")\n",
    "e = (\"average math score\")\n",
    "f = (\"combo pass score\")\n",
    "g = (\"% Passing Reading\")\n",
    "h = (\"% Passing Math\")\n",
    "i = (\"% Passing Reading/Math\")\n",
    "j = (\"Per Student Budget\")\n",
    "k = (\"School type\")\n",
    "l = (\"School Names\")\n",
    "m = (\"Total School Budget\")"
   ]
  },
  {
   "cell_type": "code",
   "execution_count": 3,
   "metadata": {},
   "outputs": [],
   "source": [
    "sc = school_data.school_name.count()\n",
    "st = student_data.student_name.count()\n",
    "bu = school_data[\"budget\"].sum()\n",
    "rd_sc = school_data_complete.reading_score.mean()\n",
    "mt_sc = school_data_complete.math_score.mean()\n"
   ]
  },
  {
   "cell_type": "code",
   "execution_count": 4,
   "metadata": {},
   "outputs": [
    {
     "data": {
      "text/plain": [
       "85.80546336482001"
      ]
     },
     "execution_count": 4,
     "metadata": {},
     "output_type": "execute_result"
    }
   ],
   "source": [
    "#passing reading\n",
    "\n",
    "pass_grades_reading = school_data_complete.loc[school_data_complete[\"reading_score\"] >= 70] \n",
    "pass_reading_percentage = (pass_grades_reading.reading_score.count() / student_data.student_name.count())*100\n",
    "\n",
    "\n",
    "pass_reading_percentage"
   ]
  },
  {
   "cell_type": "code",
   "execution_count": 5,
   "metadata": {},
   "outputs": [
    {
     "data": {
      "text/plain": [
       "74.9808526933878"
      ]
     },
     "execution_count": 5,
     "metadata": {},
     "output_type": "execute_result"
    }
   ],
   "source": [
    "#passing math\n",
    "\n",
    "pass_grades_math = school_data_complete.loc[school_data_complete[\"math_score\"] >= 70]\n",
    "pass_math_percentage = (pass_grades_math.math_score.count() / student_data.student_name.count())*100\n",
    "\n",
    "\n",
    "pass_math_percentage"
   ]
  },
  {
   "cell_type": "code",
   "execution_count": 6,
   "metadata": {},
   "outputs": [
    {
     "data": {
      "text/plain": [
       "65.17232575950983"
      ]
     },
     "execution_count": 6,
     "metadata": {},
     "output_type": "execute_result"
    }
   ],
   "source": [
    "#pasing reading and math\n",
    "\n",
    "combo_reading_math_passing_grade = pass_grades_math.loc[pass_grades_math[\"reading_score\"] >= 70]\n",
    "combo_reading_math_percent = (combo_reading_math_passing_grade.reading_score.count() / student_data.student_name.count())*100\n",
    "\n",
    "\n",
    "\n",
    "combo_reading_math_percent"
   ]
  },
  {
   "cell_type": "code",
   "execution_count": 7,
   "metadata": {},
   "outputs": [],
   "source": [
    "rd_pass = pass_reading_percentage\n",
    "mt_pass = pass_math_percentage\n",
    "cmb_pass = combo_reading_math_percent"
   ]
  },
  {
   "cell_type": "code",
   "execution_count": 8,
   "metadata": {
    "scrolled": true
   },
   "outputs": [
    {
     "data": {
      "text/html": [
       "<style  type=\"text/css\" >\n",
       "</style><table id=\"T_d6f60db4_53a1_11eb_9028_983b8fac92e7\" ><thead>    <tr>        <th class=\"blank level0\" ></th>        <th class=\"col_heading level0 col0\" >total schools</th>        <th class=\"col_heading level0 col1\" >total students</th>        <th class=\"col_heading level0 col2\" >total budget</th>        <th class=\"col_heading level0 col3\" >average reading score</th>        <th class=\"col_heading level0 col4\" >average math score</th>        <th class=\"col_heading level0 col5\" >% Passing Math</th>        <th class=\"col_heading level0 col6\" >% Passing Reading</th>        <th class=\"col_heading level0 col7\" >% Passing Reading/Math</th>    </tr></thead><tbody>\n",
       "                <tr>\n",
       "                        <th id=\"T_d6f60db4_53a1_11eb_9028_983b8fac92e7level0_row0\" class=\"row_heading level0 row0\" >0</th>\n",
       "                        <td id=\"T_d6f60db4_53a1_11eb_9028_983b8fac92e7row0_col0\" class=\"data row0 col0\" >15</td>\n",
       "                        <td id=\"T_d6f60db4_53a1_11eb_9028_983b8fac92e7row0_col1\" class=\"data row0 col1\" >39170</td>\n",
       "                        <td id=\"T_d6f60db4_53a1_11eb_9028_983b8fac92e7row0_col2\" class=\"data row0 col2\" >$24,649,428.00</td>\n",
       "                        <td id=\"T_d6f60db4_53a1_11eb_9028_983b8fac92e7row0_col3\" class=\"data row0 col3\" >81.88</td>\n",
       "                        <td id=\"T_d6f60db4_53a1_11eb_9028_983b8fac92e7row0_col4\" class=\"data row0 col4\" >78.99</td>\n",
       "                        <td id=\"T_d6f60db4_53a1_11eb_9028_983b8fac92e7row0_col5\" class=\"data row0 col5\" >74.98%</td>\n",
       "                        <td id=\"T_d6f60db4_53a1_11eb_9028_983b8fac92e7row0_col6\" class=\"data row0 col6\" >85.81%</td>\n",
       "                        <td id=\"T_d6f60db4_53a1_11eb_9028_983b8fac92e7row0_col7\" class=\"data row0 col7\" >65.17%</td>\n",
       "            </tr>\n",
       "    </tbody></table>"
      ],
      "text/plain": [
       "<pandas.io.formats.style.Styler at 0x2643f570240>"
      ]
     },
     "execution_count": 8,
     "metadata": {},
     "output_type": "execute_result"
    }
   ],
   "source": [
    "#format data for summary table\n",
    "#data = [{'a': 1, 'b': 2},{'a': 5, 'b': 10, 'c': 20}]\n",
    "data = [{a : sc, b : st, c: bu, d: rd_sc, e: mt_sc,h: mt_pass, g: rd_pass, i: cmb_pass}]\n",
    "df = pd.DataFrame(data)\n",
    "df[\"total budget\"] = df[\"total budget\"].map(\"${:,.2f}\".format)\n",
    "df[\"average math score\"] = df[\"average math score\"].map(\"{:.2f}\".format)\n",
    "df[\"average reading score\"] = df[\"average reading score\"].map(\"{:.2f}\".format)\n",
    "df['% Passing Math'] = df['% Passing Math'].map('{:.2f}%'.format)\n",
    "df['% Passing Reading'] = df['% Passing Reading'].map('{:.2f}%'.format)\n",
    "df['% Passing Reading/Math'] = df['% Passing Reading/Math'].map('{:.2f}%'.format)\n",
    "\n",
    "#df[\"math_percentage\"] = df[\"math_percentage\"].map(\"{:.2f}%\".format)\n",
    "#df[\"pass_reading_percentage\"] = df[\"pass_reading_percentage\"].map(\"{:.2f}%\".format)\n",
    "#df[\"combo_reading_math_percent\"] = df[\"combo_reading_math_percent\"].map(\"{:.2f}%\".format)\n",
    "df.style"
   ]
  },
  {
   "cell_type": "markdown",
   "metadata": {},
   "source": [
    "## School Summary"
   ]
  },
  {
   "cell_type": "markdown",
   "metadata": {},
   "source": [
    "* Create an overview table that summarizes key metrics about each school, including:\n",
    "  * School Name\n",
    "  * School Type\n",
    "  * Total Students\n",
    "  * Total School Budget\n",
    "  * Per Student Budget\n",
    "  * Average Math Score\n",
    "  * Average Reading Score\n",
    "  * % Passing Math\n",
    "  * % Passing Reading\n",
    "  * % Overall Passing (The percentage of students that passed math **and** reading.)\n",
    "  \n",
    "* Create a dataframe to hold the above results"
   ]
  },
  {
   "cell_type": "code",
   "execution_count": 47,
   "metadata": {
    "scrolled": false
   },
   "outputs": [],
   "source": [
    "#summary table by school\n",
    "# applying groupby() function to \n",
    "\n",
    "# group the data on team value. \n",
    "school_summary = school_data_complete.groupby('school_name')\n",
    "\n",
    "\n",
    "school_names = school_data.school_name.sort_values()\n",
    "\n",
    "school_type = school_data.sort_values(by=\"school_name\").type\n",
    "\n",
    "school_total_students = list(school_summary.student_name.count())\n",
    "\n",
    "budget = school_data.sort_values(by=\"school_name\").budget\n",
    "budget_format = budget.map(\"${:.2f}\".format)\n",
    "\n",
    "per_stu_budget = budget / school_total_students\n",
    "for_budget = per_stu_budget.map(\"${:.2f}\".format)\n",
    "\n",
    "\n",
    "school_avg_reading_score = school_summary.reading_score.mean()\n",
    "school_avg_reading_format = school_avg_reading_score.map(\"{:.2f}\".format)\n",
    "school_avg_math_score = school_summary.math_score.mean()\n",
    "\n",
    "\n",
    "#do not change above this line----------------------------------------------------------------\n",
    "\n",
    "#per school percentage of passing grades per school\n",
    "\n",
    "\n",
    "#xxxx = school_summary[school_summary[\"reading_score\"]]\n",
    "#school_pass_reading_percentage = (pass_grades_reading.reading_score.count() / student_data.student_name.count())*100\n",
    "\n",
    "\n",
    "#xxxx"
   ]
  },
  {
   "cell_type": "code",
   "execution_count": 57,
   "metadata": {},
   "outputs": [
    {
     "data": {
      "text/plain": [
       "school_name\n",
       "Bailey High School       81.03\n",
       "Cabrera High School      83.98\n",
       "Figueroa High School     81.16\n",
       "Ford High School         80.75\n",
       "Griffin High School      83.82\n",
       "Hernandez High School    80.93\n",
       "Holden High School       83.81\n",
       "Huang High School        81.18\n",
       "Johnson High School      80.97\n",
       "Pena High School         84.04\n",
       "Rodriguez High School    80.74\n",
       "Shelton High School      83.73\n",
       "Thomas High School       83.85\n",
       "Wilson High School       83.99\n",
       "Wright High School       83.95\n",
       "Name: reading_score, dtype: object"
      ]
     },
     "execution_count": 57,
     "metadata": {},
     "output_type": "execute_result"
    }
   ],
   "source": [
    "school_avg_reading_format\n"
   ]
  },
  {
   "cell_type": "code",
   "execution_count": 49,
   "metadata": {},
   "outputs": [
    {
     "data": {
      "text/plain": [
       "school_name\n",
       "Bailey High School       81.033963\n",
       "Cabrera High School      83.975780\n",
       "Figueroa High School     81.158020\n",
       "Ford High School         80.746258\n",
       "Griffin High School      83.816757\n",
       "Hernandez High School    80.934412\n",
       "Holden High School       83.814988\n",
       "Huang High School        81.182722\n",
       "Johnson High School      80.966394\n",
       "Pena High School         84.044699\n",
       "Rodriguez High School    80.744686\n",
       "Shelton High School      83.725724\n",
       "Thomas High School       83.848930\n",
       "Wilson High School       83.989488\n",
       "Wright High School       83.955000\n",
       "Name: reading_score, dtype: float64"
      ]
     },
     "execution_count": 49,
     "metadata": {},
     "output_type": "execute_result"
    }
   ],
   "source": [
    "school_avg_reading_score"
   ]
  },
  {
   "cell_type": "code",
   "execution_count": 50,
   "metadata": {
    "scrolled": true
   },
   "outputs": [
    {
     "data": {
      "text/plain": [
       "school_name\n",
       "Bailey High School       81.033963\n",
       "Cabrera High School      83.975780\n",
       "Figueroa High School     81.158020\n",
       "Ford High School         80.746258\n",
       "Griffin High School      83.816757\n",
       "Hernandez High School    80.934412\n",
       "Holden High School       83.814988\n",
       "Huang High School        81.182722\n",
       "Johnson High School      80.966394\n",
       "Pena High School         84.044699\n",
       "Rodriguez High School    80.744686\n",
       "Shelton High School      83.725724\n",
       "Thomas High School       83.848930\n",
       "Wilson High School       83.989488\n",
       "Wright High School       83.955000\n",
       "Name: reading_score, dtype: float64"
      ]
     },
     "execution_count": 50,
     "metadata": {},
     "output_type": "execute_result"
    }
   ],
   "source": [
    "school_avg_reading_score"
   ]
  },
  {
   "cell_type": "code",
   "execution_count": 51,
   "metadata": {},
   "outputs": [
    {
     "data": {
      "text/plain": [
       "school_name\n",
       "Bailey High School       77.048432\n",
       "Cabrera High School      83.061895\n",
       "Figueroa High School     76.711767\n",
       "Ford High School         77.102592\n",
       "Griffin High School      83.351499\n",
       "Hernandez High School    77.289752\n",
       "Holden High School       83.803279\n",
       "Huang High School        76.629414\n",
       "Johnson High School      77.072464\n",
       "Pena High School         83.839917\n",
       "Rodriguez High School    76.842711\n",
       "Shelton High School      83.359455\n",
       "Thomas High School       83.418349\n",
       "Wilson High School       83.274201\n",
       "Wright High School       83.682222\n",
       "Name: math_score, dtype: float64"
      ]
     },
     "execution_count": 51,
     "metadata": {},
     "output_type": "execute_result"
    }
   ],
   "source": [
    "school_avg_math_score"
   ]
  },
  {
   "cell_type": "code",
   "execution_count": 52,
   "metadata": {},
   "outputs": [
    {
     "data": {
      "text/plain": [
       "7        Bailey High School\n",
       "6       Cabrera High School\n",
       "1      Figueroa High School\n",
       "13         Ford High School\n",
       "4       Griffin High School\n",
       "3     Hernandez High School\n",
       "8        Holden High School\n",
       "0         Huang High School\n",
       "12      Johnson High School\n",
       "9          Pena High School\n",
       "11    Rodriguez High School\n",
       "2       Shelton High School\n",
       "14       Thomas High School\n",
       "5        Wilson High School\n",
       "10       Wright High School\n",
       "Name: school_name, dtype: object"
      ]
     },
     "execution_count": 52,
     "metadata": {},
     "output_type": "execute_result"
    }
   ],
   "source": [
    "school_names"
   ]
  },
  {
   "cell_type": "code",
   "execution_count": 53,
   "metadata": {},
   "outputs": [
    {
     "data": {
      "text/plain": [
       "7     3124928\n",
       "6     1081356\n",
       "1     1884411\n",
       "13    1763916\n",
       "4      917500\n",
       "3     3022020\n",
       "8      248087\n",
       "0     1910635\n",
       "12    3094650\n",
       "9      585858\n",
       "11    2547363\n",
       "2     1056600\n",
       "14    1043130\n",
       "5     1319574\n",
       "10    1049400\n",
       "Name: budget, dtype: int64"
      ]
     },
     "execution_count": 53,
     "metadata": {},
     "output_type": "execute_result"
    }
   ],
   "source": [
    "budget"
   ]
  },
  {
   "cell_type": "code",
   "execution_count": 54,
   "metadata": {},
   "outputs": [
    {
     "data": {
      "text/plain": [
       "7     628.0\n",
       "6     582.0\n",
       "1     639.0\n",
       "13    644.0\n",
       "4     625.0\n",
       "3     652.0\n",
       "8     581.0\n",
       "0     655.0\n",
       "12    650.0\n",
       "9     609.0\n",
       "11    637.0\n",
       "2     600.0\n",
       "14    638.0\n",
       "5     578.0\n",
       "10    583.0\n",
       "Name: budget, dtype: float64"
      ]
     },
     "execution_count": 54,
     "metadata": {},
     "output_type": "execute_result"
    }
   ],
   "source": [
    "per_stu_budget"
   ]
  },
  {
   "cell_type": "code",
   "execution_count": 55,
   "metadata": {},
   "outputs": [
    {
     "data": {
      "text/plain": [
       "school_name\n",
       "Bailey High School       81.03\n",
       "Cabrera High School      83.98\n",
       "Figueroa High School     81.16\n",
       "Ford High School         80.75\n",
       "Griffin High School      83.82\n",
       "Hernandez High School    80.93\n",
       "Holden High School       83.81\n",
       "Huang High School        81.18\n",
       "Johnson High School      80.97\n",
       "Pena High School         84.04\n",
       "Rodriguez High School    80.74\n",
       "Shelton High School      83.73\n",
       "Thomas High School       83.85\n",
       "Wilson High School       83.99\n",
       "Wright High School       83.95\n",
       "Name: reading_score, dtype: object"
      ]
     },
     "execution_count": 55,
     "metadata": {},
     "output_type": "execute_result"
    }
   ],
   "source": [
    "school_avg_reading_score_format"
   ]
  },
  {
   "cell_type": "code",
   "execution_count": 63,
   "metadata": {},
   "outputs": [
    {
     "data": {
      "text/html": [
       "<div>\n",
       "<style scoped>\n",
       "    .dataframe tbody tr th:only-of-type {\n",
       "        vertical-align: middle;\n",
       "    }\n",
       "\n",
       "    .dataframe tbody tr th {\n",
       "        vertical-align: top;\n",
       "    }\n",
       "\n",
       "    .dataframe thead th {\n",
       "        text-align: right;\n",
       "    }\n",
       "</style>\n",
       "<table border=\"1\" class=\"dataframe\">\n",
       "  <thead>\n",
       "    <tr style=\"text-align: right;\">\n",
       "      <th></th>\n",
       "      <th>School Names</th>\n",
       "      <th>School type</th>\n",
       "      <th>total students</th>\n",
       "      <th>Total School Budget</th>\n",
       "      <th>Per Student Budget</th>\n",
       "    </tr>\n",
       "  </thead>\n",
       "  <tbody>\n",
       "    <tr>\n",
       "      <th>7</th>\n",
       "      <td>Bailey High School</td>\n",
       "      <td>District</td>\n",
       "      <td>4976</td>\n",
       "      <td>$3124928.00</td>\n",
       "      <td>$628.00</td>\n",
       "    </tr>\n",
       "    <tr>\n",
       "      <th>6</th>\n",
       "      <td>Cabrera High School</td>\n",
       "      <td>Charter</td>\n",
       "      <td>1858</td>\n",
       "      <td>$1081356.00</td>\n",
       "      <td>$582.00</td>\n",
       "    </tr>\n",
       "    <tr>\n",
       "      <th>1</th>\n",
       "      <td>Figueroa High School</td>\n",
       "      <td>District</td>\n",
       "      <td>2949</td>\n",
       "      <td>$1884411.00</td>\n",
       "      <td>$639.00</td>\n",
       "    </tr>\n",
       "    <tr>\n",
       "      <th>13</th>\n",
       "      <td>Ford High School</td>\n",
       "      <td>District</td>\n",
       "      <td>2739</td>\n",
       "      <td>$1763916.00</td>\n",
       "      <td>$644.00</td>\n",
       "    </tr>\n",
       "    <tr>\n",
       "      <th>4</th>\n",
       "      <td>Griffin High School</td>\n",
       "      <td>Charter</td>\n",
       "      <td>1468</td>\n",
       "      <td>$917500.00</td>\n",
       "      <td>$625.00</td>\n",
       "    </tr>\n",
       "    <tr>\n",
       "      <th>3</th>\n",
       "      <td>Hernandez High School</td>\n",
       "      <td>District</td>\n",
       "      <td>4635</td>\n",
       "      <td>$3022020.00</td>\n",
       "      <td>$652.00</td>\n",
       "    </tr>\n",
       "    <tr>\n",
       "      <th>8</th>\n",
       "      <td>Holden High School</td>\n",
       "      <td>Charter</td>\n",
       "      <td>427</td>\n",
       "      <td>$248087.00</td>\n",
       "      <td>$581.00</td>\n",
       "    </tr>\n",
       "    <tr>\n",
       "      <th>0</th>\n",
       "      <td>Huang High School</td>\n",
       "      <td>District</td>\n",
       "      <td>2917</td>\n",
       "      <td>$1910635.00</td>\n",
       "      <td>$655.00</td>\n",
       "    </tr>\n",
       "    <tr>\n",
       "      <th>12</th>\n",
       "      <td>Johnson High School</td>\n",
       "      <td>District</td>\n",
       "      <td>4761</td>\n",
       "      <td>$3094650.00</td>\n",
       "      <td>$650.00</td>\n",
       "    </tr>\n",
       "    <tr>\n",
       "      <th>9</th>\n",
       "      <td>Pena High School</td>\n",
       "      <td>Charter</td>\n",
       "      <td>962</td>\n",
       "      <td>$585858.00</td>\n",
       "      <td>$609.00</td>\n",
       "    </tr>\n",
       "    <tr>\n",
       "      <th>11</th>\n",
       "      <td>Rodriguez High School</td>\n",
       "      <td>District</td>\n",
       "      <td>3999</td>\n",
       "      <td>$2547363.00</td>\n",
       "      <td>$637.00</td>\n",
       "    </tr>\n",
       "    <tr>\n",
       "      <th>2</th>\n",
       "      <td>Shelton High School</td>\n",
       "      <td>Charter</td>\n",
       "      <td>1761</td>\n",
       "      <td>$1056600.00</td>\n",
       "      <td>$600.00</td>\n",
       "    </tr>\n",
       "    <tr>\n",
       "      <th>14</th>\n",
       "      <td>Thomas High School</td>\n",
       "      <td>Charter</td>\n",
       "      <td>1635</td>\n",
       "      <td>$1043130.00</td>\n",
       "      <td>$638.00</td>\n",
       "    </tr>\n",
       "    <tr>\n",
       "      <th>5</th>\n",
       "      <td>Wilson High School</td>\n",
       "      <td>Charter</td>\n",
       "      <td>2283</td>\n",
       "      <td>$1319574.00</td>\n",
       "      <td>$578.00</td>\n",
       "    </tr>\n",
       "    <tr>\n",
       "      <th>10</th>\n",
       "      <td>Wright High School</td>\n",
       "      <td>Charter</td>\n",
       "      <td>1800</td>\n",
       "      <td>$1049400.00</td>\n",
       "      <td>$583.00</td>\n",
       "    </tr>\n",
       "  </tbody>\n",
       "</table>\n",
       "</div>"
      ],
      "text/plain": [
       "             School Names School type  total students Total School Budget  \\\n",
       "7      Bailey High School    District            4976         $3124928.00   \n",
       "6     Cabrera High School     Charter            1858         $1081356.00   \n",
       "1    Figueroa High School    District            2949         $1884411.00   \n",
       "13       Ford High School    District            2739         $1763916.00   \n",
       "4     Griffin High School     Charter            1468          $917500.00   \n",
       "3   Hernandez High School    District            4635         $3022020.00   \n",
       "8      Holden High School     Charter             427          $248087.00   \n",
       "0       Huang High School    District            2917         $1910635.00   \n",
       "12    Johnson High School    District            4761         $3094650.00   \n",
       "9        Pena High School     Charter             962          $585858.00   \n",
       "11  Rodriguez High School    District            3999         $2547363.00   \n",
       "2     Shelton High School     Charter            1761         $1056600.00   \n",
       "14     Thomas High School     Charter            1635         $1043130.00   \n",
       "5      Wilson High School     Charter            2283         $1319574.00   \n",
       "10     Wright High School     Charter            1800         $1049400.00   \n",
       "\n",
       "   Per Student Budget  \n",
       "7             $628.00  \n",
       "6             $582.00  \n",
       "1             $639.00  \n",
       "13            $644.00  \n",
       "4             $625.00  \n",
       "3             $652.00  \n",
       "8             $581.00  \n",
       "0             $655.00  \n",
       "12            $650.00  \n",
       "9             $609.00  \n",
       "11            $637.00  \n",
       "2             $600.00  \n",
       "14            $638.00  \n",
       "5             $578.00  \n",
       "10            $583.00  "
      ]
     },
     "execution_count": 63,
     "metadata": {},
     "output_type": "execute_result"
    }
   ],
   "source": [
    "# Compile all calculations into dataframe\n",
    "school_summary_df = pd.DataFrame({l:school_names,\n",
    "                                  k:school_type,\n",
    "                                  b:school_total_students,\n",
    "                                  m:budget_format,\n",
    "                                  j:for_budget})\n",
    "                                 \n",
    "\n",
    "\n",
    "#school_summary_df = school_summary_df.reset_index(drop=True)\n",
    "school_summary_df"
   ]
  },
  {
   "cell_type": "markdown",
   "metadata": {},
   "source": [
    "## Top Performing Schools (By % Overall Passing)"
   ]
  },
  {
   "cell_type": "markdown",
   "metadata": {},
   "source": [
    "* Sort and display the top five performing schools by % overall passing."
   ]
  },
  {
   "cell_type": "code",
   "execution_count": null,
   "metadata": {
    "scrolled": true
   },
   "outputs": [],
   "source": [
    "df.groupby(['Fruit','Name']).sum()"
   ]
  },
  {
   "cell_type": "markdown",
   "metadata": {},
   "source": [
    "## Bottom Performing Schools (By % Overall Passing)"
   ]
  },
  {
   "cell_type": "markdown",
   "metadata": {},
   "source": [
    "* Sort and display the five worst-performing schools by % overall passing."
   ]
  },
  {
   "cell_type": "code",
   "execution_count": null,
   "metadata": {},
   "outputs": [],
   "source": []
  },
  {
   "cell_type": "markdown",
   "metadata": {
    "collapsed": true
   },
   "source": [
    "## Math Scores by Grade"
   ]
  },
  {
   "cell_type": "markdown",
   "metadata": {},
   "source": [
    "* Create a table that lists the average Reading Score for students of each grade level (9th, 10th, 11th, 12th) at each school.\n",
    "\n",
    "  * Create a pandas series for each grade. Hint: use a conditional statement.\n",
    "  \n",
    "  * Group each series by school\n",
    "  \n",
    "  * Combine the series into a dataframe\n",
    "  \n",
    "  * Optional: give the displayed data cleaner formatting"
   ]
  },
  {
   "cell_type": "code",
   "execution_count": null,
   "metadata": {},
   "outputs": [],
   "source": []
  },
  {
   "cell_type": "markdown",
   "metadata": {},
   "source": [
    "## Reading Score by Grade "
   ]
  },
  {
   "cell_type": "markdown",
   "metadata": {},
   "source": [
    "* Perform the same operations as above for reading scores"
   ]
  },
  {
   "cell_type": "code",
   "execution_count": null,
   "metadata": {},
   "outputs": [],
   "source": []
  },
  {
   "cell_type": "markdown",
   "metadata": {},
   "source": [
    "## Scores by School Spending"
   ]
  },
  {
   "cell_type": "markdown",
   "metadata": {},
   "source": [
    "* Create a table that breaks down school performances based on average Spending Ranges (Per Student). Use 4 reasonable bins to group school spending. Include in the table each of the following:\n",
    "  * Average Math Score\n",
    "  * Average Reading Score\n",
    "  * % Passing Math\n",
    "  * % Passing Reading\n",
    "  * Overall Passing Rate (Average of the above two)"
   ]
  },
  {
   "cell_type": "code",
   "execution_count": null,
   "metadata": {},
   "outputs": [],
   "source": []
  },
  {
   "cell_type": "markdown",
   "metadata": {},
   "source": [
    "## Scores by School Size"
   ]
  },
  {
   "cell_type": "markdown",
   "metadata": {},
   "source": [
    "* Perform the same operations as above, based on school size."
   ]
  },
  {
   "cell_type": "code",
   "execution_count": null,
   "metadata": {
    "scrolled": true
   },
   "outputs": [],
   "source": []
  },
  {
   "cell_type": "code",
   "execution_count": null,
   "metadata": {},
   "outputs": [],
   "source": [
    "#added-------------------------------------------------------------\n",
    "\n",
    "school_summary = school_data_complete.groupby(['school_name'])\n",
    "school_names = school_data_complete.school_name.sort_values().unique()\n",
    "school_types = school_data.sort_values(by=\"school_name\").type\n",
    "school_total_students = list(school_summary.student_name.count())\n",
    "school_budget = list(school_summary.budget.mean())\n",
    "school_per_student_budget = [i/j for i,j in zip(school_budget,school_total_students)]\n",
    "school_avg_math_score = list(school_summary.math_score.mean())\n",
    "school_avg_reading_score = list(school_summary.reading_score.mean())\n",
    "\n",
    "# Calculating passing percentages\n",
    "school_summary = school_data_complete[school_data_complete['math_score'] >= 70].groupby(['school_name'])\n",
    "school_pct_passing_math = [(i/j)*100 for i,j in zip(school_summary.math_score.count(),school_total_students)]\n",
    "school_summary = school_data_complete[school_data_complete['reading_score'] >= 70].groupby(['school_name'])\n",
    "school_pct_passing_reading = [(i/j)*100 for i,j in zip(school_summary.reading_score.count(),school_total_students)]\n",
    "school_overall_passing = [(i+j)/2 for i,j in zip(school_pct_passing_math,school_pct_passing_reading)]\n",
    "\n",
    "# Compile all calculations into dataframe\n",
    "school_summary_df = pd.DataFrame({\"School Names\":school_names,\n",
    "                                  \"School Type\":school_types,\n",
    "                                  \"Total Students\":school_total_students,\n",
    "                                  \"Total School Budget\":school_budget,\n",
    "                                  \"Per Student Budget\":school_per_student_budget,\n",
    "                                  \"Average Math Score\":school_avg_math_score,\n",
    "                                  \"Average Reading Score\":school_avg_reading_score,\n",
    "                                  \"% Passing Math\":school_pct_passing_math,\n",
    "                                  \"% Passing Reading\":school_pct_passing_reading,\n",
    "                                  \"Overall Passing Rate\":school_overall_passing})\n",
    "\n",
    "#school_summary_df = school_summary_df.reset_index(drop=True)\n",
    "#school_summary_df\n",
    "\n",
    "#added-----------------------------------------------------------------"
   ]
  },
  {
   "cell_type": "markdown",
   "metadata": {},
   "source": [
    "## Scores by School Type"
   ]
  },
  {
   "cell_type": "markdown",
   "metadata": {},
   "source": [
    "* Perform the same operations as above, based on school type"
   ]
  },
  {
   "cell_type": "code",
   "execution_count": null,
   "metadata": {},
   "outputs": [],
   "source": [
    "\n",
    "                                  #f:school_pct_passing_reading,\n",
    "                                  #g:pass_math_percentage,\n",
    "                                  #h:school_overall_passing})"
   ]
  },
  {
   "cell_type": "code",
   "execution_count": null,
   "metadata": {},
   "outputs": [],
   "source": []
  },
  {
   "cell_type": "code",
   "execution_count": null,
   "metadata": {},
   "outputs": [],
   "source": []
  },
  {
   "cell_type": "code",
   "execution_count": null,
   "metadata": {},
   "outputs": [],
   "source": []
  },
  {
   "cell_type": "code",
   "execution_count": null,
   "metadata": {},
   "outputs": [],
   "source": []
  }
 ],
 "metadata": {
  "anaconda-cloud": {},
  "kernel_info": {
   "name": "python3"
  },
  "kernelspec": {
   "display_name": "Python 3",
   "language": "python",
   "name": "python3"
  },
  "language_info": {
   "codemirror_mode": {
    "name": "ipython",
    "version": 3
   },
   "file_extension": ".py",
   "mimetype": "text/x-python",
   "name": "python",
   "nbconvert_exporter": "python",
   "pygments_lexer": "ipython3",
   "version": "3.6.10"
  },
  "latex_envs": {
   "LaTeX_envs_menu_present": true,
   "autoclose": false,
   "autocomplete": true,
   "bibliofile": "biblio.bib",
   "cite_by": "apalike",
   "current_citInitial": 1,
   "eqLabelWithNumbers": true,
   "eqNumInitial": 1,
   "hotkeys": {
    "equation": "Ctrl-E",
    "itemize": "Ctrl-I"
   },
   "labels_anchors": false,
   "latex_user_defs": false,
   "report_style_numbering": false,
   "user_envs_cfg": false
  },
  "nteract": {
   "version": "0.8.4"
  }
 },
 "nbformat": 4,
 "nbformat_minor": 1
}
